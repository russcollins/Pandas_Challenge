{
 "cells": [
  {
   "cell_type": "markdown",
   "metadata": {},
   "source": [
    "### Note\n",
    "* Instructions have been included for each segment. You do not have to follow them exactly, but they are included to help you think through the steps."
   ]
  },
  {
   "cell_type": "code",
   "execution_count": 2,
   "metadata": {},
   "outputs": [
    {
     "data": {
      "text/html": [
       "<div>\n",
       "<style scoped>\n",
       "    .dataframe tbody tr th:only-of-type {\n",
       "        vertical-align: middle;\n",
       "    }\n",
       "\n",
       "    .dataframe tbody tr th {\n",
       "        vertical-align: top;\n",
       "    }\n",
       "\n",
       "    .dataframe thead th {\n",
       "        text-align: right;\n",
       "    }\n",
       "</style>\n",
       "<table border=\"1\" class=\"dataframe\">\n",
       "  <thead>\n",
       "    <tr style=\"text-align: right;\">\n",
       "      <th></th>\n",
       "      <th>Student ID</th>\n",
       "      <th>student_name</th>\n",
       "      <th>gender</th>\n",
       "      <th>grade</th>\n",
       "      <th>school_name</th>\n",
       "      <th>reading_score</th>\n",
       "      <th>math_score</th>\n",
       "      <th>School ID</th>\n",
       "      <th>type</th>\n",
       "      <th>size</th>\n",
       "      <th>budget</th>\n",
       "    </tr>\n",
       "  </thead>\n",
       "  <tbody>\n",
       "    <tr>\n",
       "      <th>0</th>\n",
       "      <td>0</td>\n",
       "      <td>Paul Bradley</td>\n",
       "      <td>M</td>\n",
       "      <td>9th</td>\n",
       "      <td>Huang High School</td>\n",
       "      <td>66</td>\n",
       "      <td>79</td>\n",
       "      <td>0</td>\n",
       "      <td>District</td>\n",
       "      <td>2917</td>\n",
       "      <td>1910635</td>\n",
       "    </tr>\n",
       "    <tr>\n",
       "      <th>1</th>\n",
       "      <td>1</td>\n",
       "      <td>Victor Smith</td>\n",
       "      <td>M</td>\n",
       "      <td>12th</td>\n",
       "      <td>Huang High School</td>\n",
       "      <td>94</td>\n",
       "      <td>61</td>\n",
       "      <td>0</td>\n",
       "      <td>District</td>\n",
       "      <td>2917</td>\n",
       "      <td>1910635</td>\n",
       "    </tr>\n",
       "    <tr>\n",
       "      <th>2</th>\n",
       "      <td>2</td>\n",
       "      <td>Kevin Rodriguez</td>\n",
       "      <td>M</td>\n",
       "      <td>12th</td>\n",
       "      <td>Huang High School</td>\n",
       "      <td>90</td>\n",
       "      <td>60</td>\n",
       "      <td>0</td>\n",
       "      <td>District</td>\n",
       "      <td>2917</td>\n",
       "      <td>1910635</td>\n",
       "    </tr>\n",
       "    <tr>\n",
       "      <th>3</th>\n",
       "      <td>3</td>\n",
       "      <td>Dr. Richard Scott</td>\n",
       "      <td>M</td>\n",
       "      <td>12th</td>\n",
       "      <td>Huang High School</td>\n",
       "      <td>67</td>\n",
       "      <td>58</td>\n",
       "      <td>0</td>\n",
       "      <td>District</td>\n",
       "      <td>2917</td>\n",
       "      <td>1910635</td>\n",
       "    </tr>\n",
       "    <tr>\n",
       "      <th>4</th>\n",
       "      <td>4</td>\n",
       "      <td>Bonnie Ray</td>\n",
       "      <td>F</td>\n",
       "      <td>9th</td>\n",
       "      <td>Huang High School</td>\n",
       "      <td>97</td>\n",
       "      <td>84</td>\n",
       "      <td>0</td>\n",
       "      <td>District</td>\n",
       "      <td>2917</td>\n",
       "      <td>1910635</td>\n",
       "    </tr>\n",
       "  </tbody>\n",
       "</table>\n",
       "</div>"
      ],
      "text/plain": [
       "   Student ID       student_name gender grade        school_name  \\\n",
       "0           0       Paul Bradley      M   9th  Huang High School   \n",
       "1           1       Victor Smith      M  12th  Huang High School   \n",
       "2           2    Kevin Rodriguez      M  12th  Huang High School   \n",
       "3           3  Dr. Richard Scott      M  12th  Huang High School   \n",
       "4           4         Bonnie Ray      F   9th  Huang High School   \n",
       "\n",
       "   reading_score  math_score  School ID      type  size   budget  \n",
       "0             66          79          0  District  2917  1910635  \n",
       "1             94          61          0  District  2917  1910635  \n",
       "2             90          60          0  District  2917  1910635  \n",
       "3             67          58          0  District  2917  1910635  \n",
       "4             97          84          0  District  2917  1910635  "
      ]
     },
     "execution_count": 2,
     "metadata": {},
     "output_type": "execute_result"
    }
   ],
   "source": [
    "# Dependencies and Setup\n",
    "import pandas as pd\n",
    "\n",
    "# File to Load (Remember to Change These)\n",
    "school_data_to_load = \"Pandas_Challengeboth/Resources/schools_complete.csv\"\n",
    "student_data_to_load = \"Pandas_Challengeboth/Resources/students_complete.csv\"\n",
    "\n",
    "# Read School and Student Data File and store into Pandas DataFrames\n",
    "school_data = pd.read_csv(school_data_to_load)\n",
    "student_data = pd.read_csv(student_data_to_load)\n",
    "\n",
    "# Combine the data into a single dataset.  \n",
    "school_data_complete = pd.merge(student_data, school_data, how=\"left\", on=[\"school_name\", \"school_name\"])\n",
    "school_data_complete.head()"
   ]
  },
  {
   "cell_type": "markdown",
   "metadata": {},
   "source": [
    "## District Summary\n",
    "\n",
    "* Calculate the total number of schools\n",
    "\n",
    "* Calculate the total number of students\n",
    "\n",
    "* Calculate the total budget\n",
    "\n",
    "* Calculate the average math score \n",
    "\n",
    "* Calculate the average reading score\n",
    "\n",
    "* Calculate the percentage of students with a passing math score (70 or greater)\n",
    "\n",
    "* Calculate the percentage of students with a passing reading score (70 or greater)\n",
    "\n",
    "* Calculate the percentage of students who passed math **and** reading (% Overall Passing)\n",
    "\n",
    "* Create a dataframe to hold the above results\n",
    "\n",
    "* Optional: give the displayed data cleaner formatting"
   ]
  },
  {
   "cell_type": "code",
   "execution_count": 3,
   "metadata": {},
   "outputs": [
    {
     "data": {
      "text/plain": [
       "15"
      ]
     },
     "execution_count": 3,
     "metadata": {},
     "output_type": "execute_result"
    }
   ],
   "source": [
    "#Calculate the total number of schools\n",
    "unique_school_name=school_data_complete['school_name'].unique()\n",
    "total_school_number=len(unique_school_name)\n",
    "total_school_number\n",
    "\n"
   ]
  },
  {
   "cell_type": "code",
   "execution_count": 4,
   "metadata": {},
   "outputs": [
    {
     "data": {
      "text/plain": [
       "39170"
      ]
     },
     "execution_count": 4,
     "metadata": {},
     "output_type": "execute_result"
    }
   ],
   "source": [
    "#Calculate the total number of students\n",
    "total_students_number=school_data_complete ['student_name'].count()\n",
    "total_students_number"
   ]
  },
  {
   "cell_type": "code",
   "execution_count": 5,
   "metadata": {},
   "outputs": [
    {
     "data": {
      "text/plain": [
       "24649428"
      ]
     },
     "execution_count": 5,
     "metadata": {},
     "output_type": "execute_result"
    }
   ],
   "source": [
    "# Calculate the total budget\n",
    "total_budget = school_data[\"budget\"].sum()\n",
    "total_budget"
   ]
  },
  {
   "cell_type": "code",
   "execution_count": 6,
   "metadata": {},
   "outputs": [
    {
     "data": {
      "text/plain": [
       "78.98537145774827"
      ]
     },
     "execution_count": 6,
     "metadata": {},
     "output_type": "execute_result"
    }
   ],
   "source": [
    "# Calculate the average math score.\n",
    "average_math_score = school_data_complete[\"math_score\"].mean()\n",
    "average_math_score"
   ]
  },
  {
   "cell_type": "code",
   "execution_count": 7,
   "metadata": {},
   "outputs": [
    {
     "data": {
      "text/plain": [
       "81.87784018381414"
      ]
     },
     "execution_count": 7,
     "metadata": {},
     "output_type": "execute_result"
    }
   ],
   "source": [
    "# Calculate the average reading score\n",
    "average_reading_score = school_data_complete[\"reading_score\"].mean()\n",
    "average_reading_score"
   ]
  },
  {
   "cell_type": "code",
   "execution_count": 8,
   "metadata": {},
   "outputs": [
    {
     "data": {
      "text/plain": [
       "74.9808526933878"
      ]
     },
     "execution_count": 8,
     "metadata": {},
     "output_type": "execute_result"
    }
   ],
   "source": [
    "#Calculate the percentage of students with a passing math score (70 or greater)\n",
    "students_passing_math = school_data_complete.loc[school_data_complete[\"math_score\"] >= 70]\n",
    "number_students_passing_math = students_passing_math[\"Student ID\"].count()\n",
    "\n",
    "percent_passing_math = (number_students_passing_math / total_students_number) * 100\n",
    "\n",
    "percent_passing_math"
   ]
  },
  {
   "cell_type": "code",
   "execution_count": 9,
   "metadata": {},
   "outputs": [
    {
     "data": {
      "text/plain": [
       "85.80546336482001"
      ]
     },
     "execution_count": 9,
     "metadata": {},
     "output_type": "execute_result"
    }
   ],
   "source": [
    "# Calculate the percentage of students with a passing reading score (70 or greater)\n",
    "students_passing_reading = school_data_complete.loc[school_data_complete[\"reading_score\"] >= 70]\n",
    "number_students_passing_reading = students_passing_reading[\"Student ID\"].count()\n",
    "\n",
    "percent_passing_reading = (number_students_passing_reading / total_students_number) * 100\n",
    "percent_passing_reading"
   ]
  },
  {
   "cell_type": "code",
   "execution_count": 10,
   "metadata": {},
   "outputs": [
    {
     "data": {
      "text/plain": [
       "65.17232575950983"
      ]
     },
     "execution_count": 10,
     "metadata": {},
     "output_type": "execute_result"
    }
   ],
   "source": [
    "# Calculate the percentage of students who passed math and reading (% Overall Passing)\n",
    "\n",
    "Overall_passing = school_data_complete[(school_data_complete['math_score'] >= 70) & (school_data_complete['reading_score'] >= 70)]['Student ID'].count()/total_students_number*100\n",
    "Overall_passing\n"
   ]
  },
  {
   "cell_type": "code",
   "execution_count": 11,
   "metadata": {},
   "outputs": [
    {
     "data": {
      "text/html": [
       "<div>\n",
       "<style scoped>\n",
       "    .dataframe tbody tr th:only-of-type {\n",
       "        vertical-align: middle;\n",
       "    }\n",
       "\n",
       "    .dataframe tbody tr th {\n",
       "        vertical-align: top;\n",
       "    }\n",
       "\n",
       "    .dataframe thead th {\n",
       "        text-align: right;\n",
       "    }\n",
       "</style>\n",
       "<table border=\"1\" class=\"dataframe\">\n",
       "  <thead>\n",
       "    <tr style=\"text-align: right;\">\n",
       "      <th></th>\n",
       "      <th>Total Schools</th>\n",
       "      <th>Totol Student</th>\n",
       "      <th>Total Budget</th>\n",
       "      <th>Average Math Score</th>\n",
       "      <th>Average Reading Score</th>\n",
       "      <th>% Passing Math</th>\n",
       "      <th>% Passing Reading</th>\n",
       "      <th>% Overall Passing</th>\n",
       "    </tr>\n",
       "  </thead>\n",
       "  <tbody>\n",
       "    <tr>\n",
       "      <th>0</th>\n",
       "      <td>15</td>\n",
       "      <td>39,170</td>\n",
       "      <td>$24,649,428.00</td>\n",
       "      <td>78.985371</td>\n",
       "      <td>81.87784</td>\n",
       "      <td>74.980853</td>\n",
       "      <td>85.805463</td>\n",
       "      <td>65.172326</td>\n",
       "    </tr>\n",
       "  </tbody>\n",
       "</table>\n",
       "</div>"
      ],
      "text/plain": [
       "   Total Schools Totol Student    Total Budget Average Math Score  \\\n",
       "0             15        39,170  $24,649,428.00          78.985371   \n",
       "\n",
       "  Average Reading Score % Passing Math % Passing Reading % Overall Passing  \n",
       "0              81.87784      74.980853         85.805463         65.172326  "
      ]
     },
     "execution_count": 11,
     "metadata": {},
     "output_type": "execute_result"
    }
   ],
   "source": [
    "# Create a dataframe to hold the above results\n",
    "district_summary = pd.DataFrame({\n",
    "    \"Total Schools\": total_school_number,\n",
    "    \"Totol Student\": f\"{total_students_number:,}\",\n",
    "    \"Total Budget\": f\"${total_budget:,.2f}\",\n",
    "    \"Average Math Score\": f\"{average_math_score:.6f}\",\n",
    "    \"Average Reading Score\": f\"{average_reading_score:.5f}\",\n",
    "    \"% Passing Math\": f\"{percent_passing_math:.6f}\",\n",
    "    \"% Passing Reading\": f\"{percent_passing_reading:.6f}\",\n",
    "    \"% Overall Passing\": f\"{Overall_passing: .6f}\"\n",
    "}, index=[0])\n",
    "\n",
    "district_summary"
   ]
  },
  {
   "cell_type": "markdown",
   "metadata": {},
   "source": [
    "## School Summary"
   ]
  },
  {
   "cell_type": "markdown",
   "metadata": {},
   "source": [
    "* Create an overview table that summarizes key metrics about each school, including:\n",
    "  * School Name\n",
    "  * School Type\n",
    "  * Total Students\n",
    "  * Total School Budget\n",
    "  * Per Student Budget\n",
    "  * Average Math Score\n",
    "  * Average Reading Score\n",
    "  * % Passing Math\n",
    "  * % Passing Reading\n",
    "  * % Overall Passing (The percentage of students that passed math **and** reading.)\n",
    "  \n",
    "* Create a dataframe to hold the above results"
   ]
  },
  {
   "cell_type": "code",
   "execution_count": 12,
   "metadata": {},
   "outputs": [],
   "source": [
    "#School Name\n",
    "school_name = school_data_complete.set_index('school_name').groupby(['school_name'])\n",
    "# school types by school name\n",
    "school_type = school_data.set_index('school_name')['type']\n",
    "#  Calculate total students\n",
    "total_student = school_name['Student ID'].count()\n",
    " # Total school budget\n",
    "total_school_budget = school_data.set_index('school_name')['budget']\n",
    "# per student budget\n",
    "budget_per_student = (school_data.set_index('school_name')['budget']/school_data.set_index('school_name')['size'])\n",
    "# Average Math Score\n",
    "\n",
    "average_math_score = school_name['math_score'].mean()\n",
    "# Average Reading Score\n",
    "average_reading_score = school_name['reading_score'].mean()\n",
    "\n",
    "pass_math_percent = school_data_complete[school_data_complete['math_score'] >= 70].groupby('school_name')['Student ID'].count()/total_student*100\n",
    "# % Passing Reading\n",
    "\n",
    "pass_read_percent = school_data_complete[school_data_complete['reading_score'] >= 70].groupby('school_name')['Student ID'].count()/total_student*100\n",
    "# % Overall Passing (The percentage of students that passed math and reading.\n",
    "\n"
   ]
  },
  {
   "cell_type": "code",
   "execution_count": 13,
   "metadata": {},
   "outputs": [],
   "source": [
    "overall_pass = school_data_complete[(school_data_complete['reading_score'] >= 70) & (school_data_complete['math_score'] >= 70)].groupby('school_name')['Student ID'].count()/total_student*100\n",
    "    "
   ]
  },
  {
   "cell_type": "code",
   "execution_count": 14,
   "metadata": {},
   "outputs": [
    {
     "data": {
      "text/html": [
       "<style  type=\"text/css\" >\n",
       "</style><table id=\"T_134db140_9715_11eb_9ecf_9801a78f88c3\" ><thead>    <tr>        <th class=\"blank level0\" ></th>        <th class=\"col_heading level0 col0\" >School Type</th>        <th class=\"col_heading level0 col1\" >Total Students</th>        <th class=\"col_heading level0 col2\" >Total School Budget</th>        <th class=\"col_heading level0 col3\" >Per Student Budget</th>        <th class=\"col_heading level0 col4\" >Average Math Score</th>        <th class=\"col_heading level0 col5\" >Average Reading Score</th>        <th class=\"col_heading level0 col6\" >% Passing Math</th>        <th class=\"col_heading level0 col7\" >% Passing Reading</th>        <th class=\"col_heading level0 col8\" >% Overall Passing</th>    </tr></thead><tbody>\n",
       "                <tr>\n",
       "                        <th id=\"T_134db140_9715_11eb_9ecf_9801a78f88c3level0_row0\" class=\"row_heading level0 row0\" >Bailey High School</th>\n",
       "                        <td id=\"T_134db140_9715_11eb_9ecf_9801a78f88c3row0_col0\" class=\"data row0 col0\" >District</td>\n",
       "                        <td id=\"T_134db140_9715_11eb_9ecf_9801a78f88c3row0_col1\" class=\"data row0 col1\" >4976</td>\n",
       "                        <td id=\"T_134db140_9715_11eb_9ecf_9801a78f88c3row0_col2\" class=\"data row0 col2\" >$3,124,928.00</td>\n",
       "                        <td id=\"T_134db140_9715_11eb_9ecf_9801a78f88c3row0_col3\" class=\"data row0 col3\" >$628.00</td>\n",
       "                        <td id=\"T_134db140_9715_11eb_9ecf_9801a78f88c3row0_col4\" class=\"data row0 col4\" >77.048432</td>\n",
       "                        <td id=\"T_134db140_9715_11eb_9ecf_9801a78f88c3row0_col5\" class=\"data row0 col5\" >81.033963</td>\n",
       "                        <td id=\"T_134db140_9715_11eb_9ecf_9801a78f88c3row0_col6\" class=\"data row0 col6\" >66.680064</td>\n",
       "                        <td id=\"T_134db140_9715_11eb_9ecf_9801a78f88c3row0_col7\" class=\"data row0 col7\" >81.933280</td>\n",
       "                        <td id=\"T_134db140_9715_11eb_9ecf_9801a78f88c3row0_col8\" class=\"data row0 col8\" >54.642283</td>\n",
       "            </tr>\n",
       "            <tr>\n",
       "                        <th id=\"T_134db140_9715_11eb_9ecf_9801a78f88c3level0_row1\" class=\"row_heading level0 row1\" >Cabrera High School</th>\n",
       "                        <td id=\"T_134db140_9715_11eb_9ecf_9801a78f88c3row1_col0\" class=\"data row1 col0\" >Charter</td>\n",
       "                        <td id=\"T_134db140_9715_11eb_9ecf_9801a78f88c3row1_col1\" class=\"data row1 col1\" >1858</td>\n",
       "                        <td id=\"T_134db140_9715_11eb_9ecf_9801a78f88c3row1_col2\" class=\"data row1 col2\" >$1,081,356.00</td>\n",
       "                        <td id=\"T_134db140_9715_11eb_9ecf_9801a78f88c3row1_col3\" class=\"data row1 col3\" >$582.00</td>\n",
       "                        <td id=\"T_134db140_9715_11eb_9ecf_9801a78f88c3row1_col4\" class=\"data row1 col4\" >83.061895</td>\n",
       "                        <td id=\"T_134db140_9715_11eb_9ecf_9801a78f88c3row1_col5\" class=\"data row1 col5\" >83.975780</td>\n",
       "                        <td id=\"T_134db140_9715_11eb_9ecf_9801a78f88c3row1_col6\" class=\"data row1 col6\" >94.133477</td>\n",
       "                        <td id=\"T_134db140_9715_11eb_9ecf_9801a78f88c3row1_col7\" class=\"data row1 col7\" >97.039828</td>\n",
       "                        <td id=\"T_134db140_9715_11eb_9ecf_9801a78f88c3row1_col8\" class=\"data row1 col8\" >91.334769</td>\n",
       "            </tr>\n",
       "            <tr>\n",
       "                        <th id=\"T_134db140_9715_11eb_9ecf_9801a78f88c3level0_row2\" class=\"row_heading level0 row2\" >Figueroa High School</th>\n",
       "                        <td id=\"T_134db140_9715_11eb_9ecf_9801a78f88c3row2_col0\" class=\"data row2 col0\" >District</td>\n",
       "                        <td id=\"T_134db140_9715_11eb_9ecf_9801a78f88c3row2_col1\" class=\"data row2 col1\" >2949</td>\n",
       "                        <td id=\"T_134db140_9715_11eb_9ecf_9801a78f88c3row2_col2\" class=\"data row2 col2\" >$1,884,411.00</td>\n",
       "                        <td id=\"T_134db140_9715_11eb_9ecf_9801a78f88c3row2_col3\" class=\"data row2 col3\" >$639.00</td>\n",
       "                        <td id=\"T_134db140_9715_11eb_9ecf_9801a78f88c3row2_col4\" class=\"data row2 col4\" >76.711767</td>\n",
       "                        <td id=\"T_134db140_9715_11eb_9ecf_9801a78f88c3row2_col5\" class=\"data row2 col5\" >81.158020</td>\n",
       "                        <td id=\"T_134db140_9715_11eb_9ecf_9801a78f88c3row2_col6\" class=\"data row2 col6\" >65.988471</td>\n",
       "                        <td id=\"T_134db140_9715_11eb_9ecf_9801a78f88c3row2_col7\" class=\"data row2 col7\" >80.739234</td>\n",
       "                        <td id=\"T_134db140_9715_11eb_9ecf_9801a78f88c3row2_col8\" class=\"data row2 col8\" >53.204476</td>\n",
       "            </tr>\n",
       "            <tr>\n",
       "                        <th id=\"T_134db140_9715_11eb_9ecf_9801a78f88c3level0_row3\" class=\"row_heading level0 row3\" >Ford High School</th>\n",
       "                        <td id=\"T_134db140_9715_11eb_9ecf_9801a78f88c3row3_col0\" class=\"data row3 col0\" >District</td>\n",
       "                        <td id=\"T_134db140_9715_11eb_9ecf_9801a78f88c3row3_col1\" class=\"data row3 col1\" >2739</td>\n",
       "                        <td id=\"T_134db140_9715_11eb_9ecf_9801a78f88c3row3_col2\" class=\"data row3 col2\" >$1,763,916.00</td>\n",
       "                        <td id=\"T_134db140_9715_11eb_9ecf_9801a78f88c3row3_col3\" class=\"data row3 col3\" >$644.00</td>\n",
       "                        <td id=\"T_134db140_9715_11eb_9ecf_9801a78f88c3row3_col4\" class=\"data row3 col4\" >77.102592</td>\n",
       "                        <td id=\"T_134db140_9715_11eb_9ecf_9801a78f88c3row3_col5\" class=\"data row3 col5\" >80.746258</td>\n",
       "                        <td id=\"T_134db140_9715_11eb_9ecf_9801a78f88c3row3_col6\" class=\"data row3 col6\" >68.309602</td>\n",
       "                        <td id=\"T_134db140_9715_11eb_9ecf_9801a78f88c3row3_col7\" class=\"data row3 col7\" >79.299014</td>\n",
       "                        <td id=\"T_134db140_9715_11eb_9ecf_9801a78f88c3row3_col8\" class=\"data row3 col8\" >54.289887</td>\n",
       "            </tr>\n",
       "            <tr>\n",
       "                        <th id=\"T_134db140_9715_11eb_9ecf_9801a78f88c3level0_row4\" class=\"row_heading level0 row4\" >Griffin High School</th>\n",
       "                        <td id=\"T_134db140_9715_11eb_9ecf_9801a78f88c3row4_col0\" class=\"data row4 col0\" >Charter</td>\n",
       "                        <td id=\"T_134db140_9715_11eb_9ecf_9801a78f88c3row4_col1\" class=\"data row4 col1\" >1468</td>\n",
       "                        <td id=\"T_134db140_9715_11eb_9ecf_9801a78f88c3row4_col2\" class=\"data row4 col2\" >$917,500.00</td>\n",
       "                        <td id=\"T_134db140_9715_11eb_9ecf_9801a78f88c3row4_col3\" class=\"data row4 col3\" >$625.00</td>\n",
       "                        <td id=\"T_134db140_9715_11eb_9ecf_9801a78f88c3row4_col4\" class=\"data row4 col4\" >83.351499</td>\n",
       "                        <td id=\"T_134db140_9715_11eb_9ecf_9801a78f88c3row4_col5\" class=\"data row4 col5\" >83.816757</td>\n",
       "                        <td id=\"T_134db140_9715_11eb_9ecf_9801a78f88c3row4_col6\" class=\"data row4 col6\" >93.392371</td>\n",
       "                        <td id=\"T_134db140_9715_11eb_9ecf_9801a78f88c3row4_col7\" class=\"data row4 col7\" >97.138965</td>\n",
       "                        <td id=\"T_134db140_9715_11eb_9ecf_9801a78f88c3row4_col8\" class=\"data row4 col8\" >90.599455</td>\n",
       "            </tr>\n",
       "            <tr>\n",
       "                        <th id=\"T_134db140_9715_11eb_9ecf_9801a78f88c3level0_row5\" class=\"row_heading level0 row5\" >Hernandez High School</th>\n",
       "                        <td id=\"T_134db140_9715_11eb_9ecf_9801a78f88c3row5_col0\" class=\"data row5 col0\" >District</td>\n",
       "                        <td id=\"T_134db140_9715_11eb_9ecf_9801a78f88c3row5_col1\" class=\"data row5 col1\" >4635</td>\n",
       "                        <td id=\"T_134db140_9715_11eb_9ecf_9801a78f88c3row5_col2\" class=\"data row5 col2\" >$3,022,020.00</td>\n",
       "                        <td id=\"T_134db140_9715_11eb_9ecf_9801a78f88c3row5_col3\" class=\"data row5 col3\" >$652.00</td>\n",
       "                        <td id=\"T_134db140_9715_11eb_9ecf_9801a78f88c3row5_col4\" class=\"data row5 col4\" >77.289752</td>\n",
       "                        <td id=\"T_134db140_9715_11eb_9ecf_9801a78f88c3row5_col5\" class=\"data row5 col5\" >80.934412</td>\n",
       "                        <td id=\"T_134db140_9715_11eb_9ecf_9801a78f88c3row5_col6\" class=\"data row5 col6\" >66.752967</td>\n",
       "                        <td id=\"T_134db140_9715_11eb_9ecf_9801a78f88c3row5_col7\" class=\"data row5 col7\" >80.862999</td>\n",
       "                        <td id=\"T_134db140_9715_11eb_9ecf_9801a78f88c3row5_col8\" class=\"data row5 col8\" >53.527508</td>\n",
       "            </tr>\n",
       "            <tr>\n",
       "                        <th id=\"T_134db140_9715_11eb_9ecf_9801a78f88c3level0_row6\" class=\"row_heading level0 row6\" >Holden High School</th>\n",
       "                        <td id=\"T_134db140_9715_11eb_9ecf_9801a78f88c3row6_col0\" class=\"data row6 col0\" >Charter</td>\n",
       "                        <td id=\"T_134db140_9715_11eb_9ecf_9801a78f88c3row6_col1\" class=\"data row6 col1\" >427</td>\n",
       "                        <td id=\"T_134db140_9715_11eb_9ecf_9801a78f88c3row6_col2\" class=\"data row6 col2\" >$248,087.00</td>\n",
       "                        <td id=\"T_134db140_9715_11eb_9ecf_9801a78f88c3row6_col3\" class=\"data row6 col3\" >$581.00</td>\n",
       "                        <td id=\"T_134db140_9715_11eb_9ecf_9801a78f88c3row6_col4\" class=\"data row6 col4\" >83.803279</td>\n",
       "                        <td id=\"T_134db140_9715_11eb_9ecf_9801a78f88c3row6_col5\" class=\"data row6 col5\" >83.814988</td>\n",
       "                        <td id=\"T_134db140_9715_11eb_9ecf_9801a78f88c3row6_col6\" class=\"data row6 col6\" >92.505855</td>\n",
       "                        <td id=\"T_134db140_9715_11eb_9ecf_9801a78f88c3row6_col7\" class=\"data row6 col7\" >96.252927</td>\n",
       "                        <td id=\"T_134db140_9715_11eb_9ecf_9801a78f88c3row6_col8\" class=\"data row6 col8\" >89.227166</td>\n",
       "            </tr>\n",
       "            <tr>\n",
       "                        <th id=\"T_134db140_9715_11eb_9ecf_9801a78f88c3level0_row7\" class=\"row_heading level0 row7\" >Huang High School</th>\n",
       "                        <td id=\"T_134db140_9715_11eb_9ecf_9801a78f88c3row7_col0\" class=\"data row7 col0\" >District</td>\n",
       "                        <td id=\"T_134db140_9715_11eb_9ecf_9801a78f88c3row7_col1\" class=\"data row7 col1\" >2917</td>\n",
       "                        <td id=\"T_134db140_9715_11eb_9ecf_9801a78f88c3row7_col2\" class=\"data row7 col2\" >$1,910,635.00</td>\n",
       "                        <td id=\"T_134db140_9715_11eb_9ecf_9801a78f88c3row7_col3\" class=\"data row7 col3\" >$655.00</td>\n",
       "                        <td id=\"T_134db140_9715_11eb_9ecf_9801a78f88c3row7_col4\" class=\"data row7 col4\" >76.629414</td>\n",
       "                        <td id=\"T_134db140_9715_11eb_9ecf_9801a78f88c3row7_col5\" class=\"data row7 col5\" >81.182722</td>\n",
       "                        <td id=\"T_134db140_9715_11eb_9ecf_9801a78f88c3row7_col6\" class=\"data row7 col6\" >65.683922</td>\n",
       "                        <td id=\"T_134db140_9715_11eb_9ecf_9801a78f88c3row7_col7\" class=\"data row7 col7\" >81.316421</td>\n",
       "                        <td id=\"T_134db140_9715_11eb_9ecf_9801a78f88c3row7_col8\" class=\"data row7 col8\" >53.513884</td>\n",
       "            </tr>\n",
       "            <tr>\n",
       "                        <th id=\"T_134db140_9715_11eb_9ecf_9801a78f88c3level0_row8\" class=\"row_heading level0 row8\" >Johnson High School</th>\n",
       "                        <td id=\"T_134db140_9715_11eb_9ecf_9801a78f88c3row8_col0\" class=\"data row8 col0\" >District</td>\n",
       "                        <td id=\"T_134db140_9715_11eb_9ecf_9801a78f88c3row8_col1\" class=\"data row8 col1\" >4761</td>\n",
       "                        <td id=\"T_134db140_9715_11eb_9ecf_9801a78f88c3row8_col2\" class=\"data row8 col2\" >$3,094,650.00</td>\n",
       "                        <td id=\"T_134db140_9715_11eb_9ecf_9801a78f88c3row8_col3\" class=\"data row8 col3\" >$650.00</td>\n",
       "                        <td id=\"T_134db140_9715_11eb_9ecf_9801a78f88c3row8_col4\" class=\"data row8 col4\" >77.072464</td>\n",
       "                        <td id=\"T_134db140_9715_11eb_9ecf_9801a78f88c3row8_col5\" class=\"data row8 col5\" >80.966394</td>\n",
       "                        <td id=\"T_134db140_9715_11eb_9ecf_9801a78f88c3row8_col6\" class=\"data row8 col6\" >66.057551</td>\n",
       "                        <td id=\"T_134db140_9715_11eb_9ecf_9801a78f88c3row8_col7\" class=\"data row8 col7\" >81.222432</td>\n",
       "                        <td id=\"T_134db140_9715_11eb_9ecf_9801a78f88c3row8_col8\" class=\"data row8 col8\" >53.539172</td>\n",
       "            </tr>\n",
       "            <tr>\n",
       "                        <th id=\"T_134db140_9715_11eb_9ecf_9801a78f88c3level0_row9\" class=\"row_heading level0 row9\" >Pena High School</th>\n",
       "                        <td id=\"T_134db140_9715_11eb_9ecf_9801a78f88c3row9_col0\" class=\"data row9 col0\" >Charter</td>\n",
       "                        <td id=\"T_134db140_9715_11eb_9ecf_9801a78f88c3row9_col1\" class=\"data row9 col1\" >962</td>\n",
       "                        <td id=\"T_134db140_9715_11eb_9ecf_9801a78f88c3row9_col2\" class=\"data row9 col2\" >$585,858.00</td>\n",
       "                        <td id=\"T_134db140_9715_11eb_9ecf_9801a78f88c3row9_col3\" class=\"data row9 col3\" >$609.00</td>\n",
       "                        <td id=\"T_134db140_9715_11eb_9ecf_9801a78f88c3row9_col4\" class=\"data row9 col4\" >83.839917</td>\n",
       "                        <td id=\"T_134db140_9715_11eb_9ecf_9801a78f88c3row9_col5\" class=\"data row9 col5\" >84.044699</td>\n",
       "                        <td id=\"T_134db140_9715_11eb_9ecf_9801a78f88c3row9_col6\" class=\"data row9 col6\" >94.594595</td>\n",
       "                        <td id=\"T_134db140_9715_11eb_9ecf_9801a78f88c3row9_col7\" class=\"data row9 col7\" >95.945946</td>\n",
       "                        <td id=\"T_134db140_9715_11eb_9ecf_9801a78f88c3row9_col8\" class=\"data row9 col8\" >90.540541</td>\n",
       "            </tr>\n",
       "            <tr>\n",
       "                        <th id=\"T_134db140_9715_11eb_9ecf_9801a78f88c3level0_row10\" class=\"row_heading level0 row10\" >Rodriguez High School</th>\n",
       "                        <td id=\"T_134db140_9715_11eb_9ecf_9801a78f88c3row10_col0\" class=\"data row10 col0\" >District</td>\n",
       "                        <td id=\"T_134db140_9715_11eb_9ecf_9801a78f88c3row10_col1\" class=\"data row10 col1\" >3999</td>\n",
       "                        <td id=\"T_134db140_9715_11eb_9ecf_9801a78f88c3row10_col2\" class=\"data row10 col2\" >$2,547,363.00</td>\n",
       "                        <td id=\"T_134db140_9715_11eb_9ecf_9801a78f88c3row10_col3\" class=\"data row10 col3\" >$637.00</td>\n",
       "                        <td id=\"T_134db140_9715_11eb_9ecf_9801a78f88c3row10_col4\" class=\"data row10 col4\" >76.842711</td>\n",
       "                        <td id=\"T_134db140_9715_11eb_9ecf_9801a78f88c3row10_col5\" class=\"data row10 col5\" >80.744686</td>\n",
       "                        <td id=\"T_134db140_9715_11eb_9ecf_9801a78f88c3row10_col6\" class=\"data row10 col6\" >66.366592</td>\n",
       "                        <td id=\"T_134db140_9715_11eb_9ecf_9801a78f88c3row10_col7\" class=\"data row10 col7\" >80.220055</td>\n",
       "                        <td id=\"T_134db140_9715_11eb_9ecf_9801a78f88c3row10_col8\" class=\"data row10 col8\" >52.988247</td>\n",
       "            </tr>\n",
       "            <tr>\n",
       "                        <th id=\"T_134db140_9715_11eb_9ecf_9801a78f88c3level0_row11\" class=\"row_heading level0 row11\" >Shelton High School</th>\n",
       "                        <td id=\"T_134db140_9715_11eb_9ecf_9801a78f88c3row11_col0\" class=\"data row11 col0\" >Charter</td>\n",
       "                        <td id=\"T_134db140_9715_11eb_9ecf_9801a78f88c3row11_col1\" class=\"data row11 col1\" >1761</td>\n",
       "                        <td id=\"T_134db140_9715_11eb_9ecf_9801a78f88c3row11_col2\" class=\"data row11 col2\" >$1,056,600.00</td>\n",
       "                        <td id=\"T_134db140_9715_11eb_9ecf_9801a78f88c3row11_col3\" class=\"data row11 col3\" >$600.00</td>\n",
       "                        <td id=\"T_134db140_9715_11eb_9ecf_9801a78f88c3row11_col4\" class=\"data row11 col4\" >83.359455</td>\n",
       "                        <td id=\"T_134db140_9715_11eb_9ecf_9801a78f88c3row11_col5\" class=\"data row11 col5\" >83.725724</td>\n",
       "                        <td id=\"T_134db140_9715_11eb_9ecf_9801a78f88c3row11_col6\" class=\"data row11 col6\" >93.867121</td>\n",
       "                        <td id=\"T_134db140_9715_11eb_9ecf_9801a78f88c3row11_col7\" class=\"data row11 col7\" >95.854628</td>\n",
       "                        <td id=\"T_134db140_9715_11eb_9ecf_9801a78f88c3row11_col8\" class=\"data row11 col8\" >89.892107</td>\n",
       "            </tr>\n",
       "            <tr>\n",
       "                        <th id=\"T_134db140_9715_11eb_9ecf_9801a78f88c3level0_row12\" class=\"row_heading level0 row12\" >Thomas High School</th>\n",
       "                        <td id=\"T_134db140_9715_11eb_9ecf_9801a78f88c3row12_col0\" class=\"data row12 col0\" >Charter</td>\n",
       "                        <td id=\"T_134db140_9715_11eb_9ecf_9801a78f88c3row12_col1\" class=\"data row12 col1\" >1635</td>\n",
       "                        <td id=\"T_134db140_9715_11eb_9ecf_9801a78f88c3row12_col2\" class=\"data row12 col2\" >$1,043,130.00</td>\n",
       "                        <td id=\"T_134db140_9715_11eb_9ecf_9801a78f88c3row12_col3\" class=\"data row12 col3\" >$638.00</td>\n",
       "                        <td id=\"T_134db140_9715_11eb_9ecf_9801a78f88c3row12_col4\" class=\"data row12 col4\" >83.418349</td>\n",
       "                        <td id=\"T_134db140_9715_11eb_9ecf_9801a78f88c3row12_col5\" class=\"data row12 col5\" >83.848930</td>\n",
       "                        <td id=\"T_134db140_9715_11eb_9ecf_9801a78f88c3row12_col6\" class=\"data row12 col6\" >93.272171</td>\n",
       "                        <td id=\"T_134db140_9715_11eb_9ecf_9801a78f88c3row12_col7\" class=\"data row12 col7\" >97.308869</td>\n",
       "                        <td id=\"T_134db140_9715_11eb_9ecf_9801a78f88c3row12_col8\" class=\"data row12 col8\" >90.948012</td>\n",
       "            </tr>\n",
       "            <tr>\n",
       "                        <th id=\"T_134db140_9715_11eb_9ecf_9801a78f88c3level0_row13\" class=\"row_heading level0 row13\" >Wilson High School</th>\n",
       "                        <td id=\"T_134db140_9715_11eb_9ecf_9801a78f88c3row13_col0\" class=\"data row13 col0\" >Charter</td>\n",
       "                        <td id=\"T_134db140_9715_11eb_9ecf_9801a78f88c3row13_col1\" class=\"data row13 col1\" >2283</td>\n",
       "                        <td id=\"T_134db140_9715_11eb_9ecf_9801a78f88c3row13_col2\" class=\"data row13 col2\" >$1,319,574.00</td>\n",
       "                        <td id=\"T_134db140_9715_11eb_9ecf_9801a78f88c3row13_col3\" class=\"data row13 col3\" >$578.00</td>\n",
       "                        <td id=\"T_134db140_9715_11eb_9ecf_9801a78f88c3row13_col4\" class=\"data row13 col4\" >83.274201</td>\n",
       "                        <td id=\"T_134db140_9715_11eb_9ecf_9801a78f88c3row13_col5\" class=\"data row13 col5\" >83.989488</td>\n",
       "                        <td id=\"T_134db140_9715_11eb_9ecf_9801a78f88c3row13_col6\" class=\"data row13 col6\" >93.867718</td>\n",
       "                        <td id=\"T_134db140_9715_11eb_9ecf_9801a78f88c3row13_col7\" class=\"data row13 col7\" >96.539641</td>\n",
       "                        <td id=\"T_134db140_9715_11eb_9ecf_9801a78f88c3row13_col8\" class=\"data row13 col8\" >90.582567</td>\n",
       "            </tr>\n",
       "            <tr>\n",
       "                        <th id=\"T_134db140_9715_11eb_9ecf_9801a78f88c3level0_row14\" class=\"row_heading level0 row14\" >Wright High School</th>\n",
       "                        <td id=\"T_134db140_9715_11eb_9ecf_9801a78f88c3row14_col0\" class=\"data row14 col0\" >Charter</td>\n",
       "                        <td id=\"T_134db140_9715_11eb_9ecf_9801a78f88c3row14_col1\" class=\"data row14 col1\" >1800</td>\n",
       "                        <td id=\"T_134db140_9715_11eb_9ecf_9801a78f88c3row14_col2\" class=\"data row14 col2\" >$1,049,400.00</td>\n",
       "                        <td id=\"T_134db140_9715_11eb_9ecf_9801a78f88c3row14_col3\" class=\"data row14 col3\" >$583.00</td>\n",
       "                        <td id=\"T_134db140_9715_11eb_9ecf_9801a78f88c3row14_col4\" class=\"data row14 col4\" >83.682222</td>\n",
       "                        <td id=\"T_134db140_9715_11eb_9ecf_9801a78f88c3row14_col5\" class=\"data row14 col5\" >83.955000</td>\n",
       "                        <td id=\"T_134db140_9715_11eb_9ecf_9801a78f88c3row14_col6\" class=\"data row14 col6\" >93.333333</td>\n",
       "                        <td id=\"T_134db140_9715_11eb_9ecf_9801a78f88c3row14_col7\" class=\"data row14 col7\" >96.611111</td>\n",
       "                        <td id=\"T_134db140_9715_11eb_9ecf_9801a78f88c3row14_col8\" class=\"data row14 col8\" >90.333333</td>\n",
       "            </tr>\n",
       "    </tbody></table>"
      ],
      "text/plain": [
       "<pandas.io.formats.style.Styler at 0x7fd356490ca0>"
      ]
     },
     "execution_count": 14,
     "metadata": {},
     "output_type": "execute_result"
    }
   ],
   "source": [
    "school_summary = pd.DataFrame({\n",
    "    \"School Type\": school_type,\n",
    "    \"Total Students\": total_student,\n",
    "    \"Per Student Budget\": budget_per_student,\n",
    "    \"Total School Budget\": total_school_budget,\n",
    "    \"Average Math Score\": average_math_score,\n",
    "    \"Average Reading Score\": average_reading_score,\n",
    "    '% Passing Math': pass_math_percent,\n",
    "    '% Passing Reading': pass_read_percent,\n",
    "    \"% Overall Passing\": overall_pass\n",
    "})\n",
    "#munging\n",
    "school_summary = school_summary[['School Type', \n",
    "                          'Total Students', \n",
    "                          'Total School Budget', \n",
    "                          'Per Student Budget', \n",
    "                          'Average Math Score', \n",
    "                          'Average Reading Score',\n",
    "                          '% Passing Math',\n",
    "                          '% Passing Reading',\n",
    "                          '% Overall Passing']]\n",
    "#formatting\n",
    "school_summary.style.format({'Total Students': '{:}',\n",
    "                          \"Total School Budget\": \"${:,.2f}\",\n",
    "                          \"Per Student Budget\": \"${:.2f}\",\n",
    "                          'Average Math Score': \"{:6f}\", \n",
    "                          'Average Reading Score': \"{:6f}\", \n",
    "                          \"% Passing Math\": \"{:6f}\", \n",
    "                          \"% Passing Reading\": \"{:6f}\"})"
   ]
  },
  {
   "cell_type": "markdown",
   "metadata": {},
   "source": [
    "## Top Performing Schools (By % Overall Passing)"
   ]
  },
  {
   "cell_type": "markdown",
   "metadata": {},
   "source": [
    "* Sort and display the top five performing schools by % overall passing."
   ]
  },
  {
   "cell_type": "code",
   "execution_count": null,
   "metadata": {
    "scrolled": true
   },
   "outputs": [],
   "source": []
  },
  {
   "cell_type": "markdown",
   "metadata": {},
   "source": [
    "## Bottom Performing Schools (By % Overall Passing)"
   ]
  },
  {
   "cell_type": "markdown",
   "metadata": {},
   "source": [
    "* Sort and display the five worst-performing schools by % overall passing."
   ]
  },
  {
   "cell_type": "code",
   "execution_count": null,
   "metadata": {},
   "outputs": [],
   "source": []
  },
  {
   "cell_type": "markdown",
   "metadata": {
    "collapsed": true
   },
   "source": [
    "## Math Scores by Grade"
   ]
  },
  {
   "cell_type": "markdown",
   "metadata": {},
   "source": [
    "* Create a table that lists the average Reading Score for students of each grade level (9th, 10th, 11th, 12th) at each school.\n",
    "\n",
    "  * Create a pandas series for each grade. Hint: use a conditional statement.\n",
    "  \n",
    "  * Group each series by school\n",
    "  \n",
    "  * Combine the series into a dataframe\n",
    "  \n",
    "  * Optional: give the displayed data cleaner formatting"
   ]
  },
  {
   "cell_type": "code",
   "execution_count": null,
   "metadata": {},
   "outputs": [],
   "source": []
  },
  {
   "cell_type": "markdown",
   "metadata": {},
   "source": [
    "## Reading Score by Grade "
   ]
  },
  {
   "cell_type": "markdown",
   "metadata": {},
   "source": [
    "* Perform the same operations as above for reading scores"
   ]
  },
  {
   "cell_type": "code",
   "execution_count": null,
   "metadata": {},
   "outputs": [],
   "source": []
  },
  {
   "cell_type": "markdown",
   "metadata": {},
   "source": [
    "## Scores by School Spending"
   ]
  },
  {
   "cell_type": "markdown",
   "metadata": {},
   "source": [
    "* Create a table that breaks down school performances based on average Spending Ranges (Per Student). Use 4 reasonable bins to group school spending. Include in the table each of the following:\n",
    "  * Average Math Score\n",
    "  * Average Reading Score\n",
    "  * % Passing Math\n",
    "  * % Passing Reading\n",
    "  * Overall Passing Rate (Average of the above two)"
   ]
  },
  {
   "cell_type": "code",
   "execution_count": null,
   "metadata": {},
   "outputs": [],
   "source": []
  },
  {
   "cell_type": "markdown",
   "metadata": {},
   "source": [
    "## Scores by School Size"
   ]
  },
  {
   "cell_type": "markdown",
   "metadata": {},
   "source": [
    "* Perform the same operations as above, based on school size."
   ]
  },
  {
   "cell_type": "code",
   "execution_count": null,
   "metadata": {
    "scrolled": true
   },
   "outputs": [],
   "source": []
  },
  {
   "cell_type": "markdown",
   "metadata": {},
   "source": [
    "## Scores by School Type"
   ]
  },
  {
   "cell_type": "markdown",
   "metadata": {},
   "source": [
    "* Perform the same operations as above, based on school type"
   ]
  },
  {
   "cell_type": "code",
   "execution_count": null,
   "metadata": {},
   "outputs": [],
   "source": []
  },
  {
   "cell_type": "code",
   "execution_count": null,
   "metadata": {},
   "outputs": [],
   "source": []
  }
 ],
 "metadata": {
  "anaconda-cloud": {},
  "kernel_info": {
   "name": "python3"
  },
  "kernelspec": {
   "display_name": "Python 3",
   "language": "python",
   "name": "python3"
  },
  "language_info": {
   "codemirror_mode": {
    "name": "ipython",
    "version": 3
   },
   "file_extension": ".py",
   "mimetype": "text/x-python",
   "name": "python",
   "nbconvert_exporter": "python",
   "pygments_lexer": "ipython3",
   "version": "3.8.5"
  },
  "latex_envs": {
   "LaTeX_envs_menu_present": true,
   "autoclose": false,
   "autocomplete": true,
   "bibliofile": "biblio.bib",
   "cite_by": "apalike",
   "current_citInitial": 1,
   "eqLabelWithNumbers": true,
   "eqNumInitial": 1,
   "hotkeys": {
    "equation": "Ctrl-E",
    "itemize": "Ctrl-I"
   },
   "labels_anchors": false,
   "latex_user_defs": false,
   "report_style_numbering": false,
   "user_envs_cfg": false
  },
  "nteract": {
   "version": "0.8.4"
  }
 },
 "nbformat": 4,
 "nbformat_minor": 1
}
