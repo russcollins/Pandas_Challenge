{
 "cells": [
  {
   "cell_type": "markdown",
   "metadata": {},
   "source": [
    "### Note\n",
    "* Instructions have been included for each segment. You do not have to follow them exactly, but they are included to help you think through the steps."
   ]
  },
  {
   "cell_type": "code",
   "execution_count": 1,
   "metadata": {},
   "outputs": [
    {
     "data": {
      "text/html": [
       "<div>\n",
       "<style scoped>\n",
       "    .dataframe tbody tr th:only-of-type {\n",
       "        vertical-align: middle;\n",
       "    }\n",
       "\n",
       "    .dataframe tbody tr th {\n",
       "        vertical-align: top;\n",
       "    }\n",
       "\n",
       "    .dataframe thead th {\n",
       "        text-align: right;\n",
       "    }\n",
       "</style>\n",
       "<table border=\"1\" class=\"dataframe\">\n",
       "  <thead>\n",
       "    <tr style=\"text-align: right;\">\n",
       "      <th></th>\n",
       "      <th>Student ID</th>\n",
       "      <th>student_name</th>\n",
       "      <th>gender</th>\n",
       "      <th>grade</th>\n",
       "      <th>school_name</th>\n",
       "      <th>reading_score</th>\n",
       "      <th>math_score</th>\n",
       "      <th>School ID</th>\n",
       "      <th>type</th>\n",
       "      <th>size</th>\n",
       "      <th>budget</th>\n",
       "    </tr>\n",
       "  </thead>\n",
       "  <tbody>\n",
       "    <tr>\n",
       "      <th>0</th>\n",
       "      <td>0</td>\n",
       "      <td>Paul Bradley</td>\n",
       "      <td>M</td>\n",
       "      <td>9th</td>\n",
       "      <td>Huang High School</td>\n",
       "      <td>66</td>\n",
       "      <td>79</td>\n",
       "      <td>0</td>\n",
       "      <td>District</td>\n",
       "      <td>2917</td>\n",
       "      <td>1910635</td>\n",
       "    </tr>\n",
       "    <tr>\n",
       "      <th>1</th>\n",
       "      <td>1</td>\n",
       "      <td>Victor Smith</td>\n",
       "      <td>M</td>\n",
       "      <td>12th</td>\n",
       "      <td>Huang High School</td>\n",
       "      <td>94</td>\n",
       "      <td>61</td>\n",
       "      <td>0</td>\n",
       "      <td>District</td>\n",
       "      <td>2917</td>\n",
       "      <td>1910635</td>\n",
       "    </tr>\n",
       "    <tr>\n",
       "      <th>2</th>\n",
       "      <td>2</td>\n",
       "      <td>Kevin Rodriguez</td>\n",
       "      <td>M</td>\n",
       "      <td>12th</td>\n",
       "      <td>Huang High School</td>\n",
       "      <td>90</td>\n",
       "      <td>60</td>\n",
       "      <td>0</td>\n",
       "      <td>District</td>\n",
       "      <td>2917</td>\n",
       "      <td>1910635</td>\n",
       "    </tr>\n",
       "    <tr>\n",
       "      <th>3</th>\n",
       "      <td>3</td>\n",
       "      <td>Dr. Richard Scott</td>\n",
       "      <td>M</td>\n",
       "      <td>12th</td>\n",
       "      <td>Huang High School</td>\n",
       "      <td>67</td>\n",
       "      <td>58</td>\n",
       "      <td>0</td>\n",
       "      <td>District</td>\n",
       "      <td>2917</td>\n",
       "      <td>1910635</td>\n",
       "    </tr>\n",
       "    <tr>\n",
       "      <th>4</th>\n",
       "      <td>4</td>\n",
       "      <td>Bonnie Ray</td>\n",
       "      <td>F</td>\n",
       "      <td>9th</td>\n",
       "      <td>Huang High School</td>\n",
       "      <td>97</td>\n",
       "      <td>84</td>\n",
       "      <td>0</td>\n",
       "      <td>District</td>\n",
       "      <td>2917</td>\n",
       "      <td>1910635</td>\n",
       "    </tr>\n",
       "  </tbody>\n",
       "</table>\n",
       "</div>"
      ],
      "text/plain": [
       "   Student ID       student_name gender grade        school_name  \\\n",
       "0           0       Paul Bradley      M   9th  Huang High School   \n",
       "1           1       Victor Smith      M  12th  Huang High School   \n",
       "2           2    Kevin Rodriguez      M  12th  Huang High School   \n",
       "3           3  Dr. Richard Scott      M  12th  Huang High School   \n",
       "4           4         Bonnie Ray      F   9th  Huang High School   \n",
       "\n",
       "   reading_score  math_score  School ID      type  size   budget  \n",
       "0             66          79          0  District  2917  1910635  \n",
       "1             94          61          0  District  2917  1910635  \n",
       "2             90          60          0  District  2917  1910635  \n",
       "3             67          58          0  District  2917  1910635  \n",
       "4             97          84          0  District  2917  1910635  "
      ]
     },
     "execution_count": 1,
     "metadata": {},
     "output_type": "execute_result"
    }
   ],
   "source": [
    "# Dependencies and Setup\n",
    "import pandas as pd\n",
    "\n",
    "# File to Load (Remember to Change These)\n",
    "school_data_to_load = \"Resources/schools_complete.csv\"\n",
    "student_data_to_load = \"Resources/students_complete.csv\"\n",
    "\n",
    "# Read School and Student Data File and store into Pandas DataFrames\n",
    "school_data = pd.read_csv(school_data_to_load)\n",
    "student_data = pd.read_csv(student_data_to_load)\n",
    "\n",
    "# Combine the data into a single dataset.  \n",
    "school_data_complete = pd.merge(student_data, school_data, how=\"left\", on=[\"school_name\", \"school_name\"])\n",
    "school_data_complete.head()"
   ]
  },
  {
   "cell_type": "markdown",
   "metadata": {},
   "source": [
    "## District Summary\n",
    "\n",
    "* Calculate the total number of schools\n",
    "\n",
    "* Calculate the total number of students\n",
    "\n",
    "* Calculate the total budget\n",
    "\n",
    "* Calculate the average math score \n",
    "\n",
    "* Calculate the average reading score\n",
    "\n",
    "* Calculate the percentage of students with a passing math score (70 or greater)\n",
    "\n",
    "* Calculate the percentage of students with a passing reading score (70 or greater)\n",
    "\n",
    "* Calculate the percentage of students who passed math **and** reading (% Overall Passing)\n",
    "\n",
    "* Create a dataframe to hold the above results\n",
    "\n",
    "* Optional: give the displayed data cleaner formatting"
   ]
  },
  {
   "cell_type": "code",
   "execution_count": 2,
   "metadata": {},
   "outputs": [
    {
     "data": {
      "text/plain": [
       "15"
      ]
     },
     "execution_count": 2,
     "metadata": {},
     "output_type": "execute_result"
    }
   ],
   "source": [
    "#Calculate the total number of schools\n",
    "unique_school_name=school_data_complete['school_name'].unique()\n",
    "total_school_number=len(unique_school_name)\n",
    "total_school_number\n",
    "\n"
   ]
  },
  {
   "cell_type": "code",
   "execution_count": 3,
   "metadata": {},
   "outputs": [
    {
     "data": {
      "text/plain": [
       "39170"
      ]
     },
     "execution_count": 3,
     "metadata": {},
     "output_type": "execute_result"
    }
   ],
   "source": [
    "#Calculate the total number of students\n",
    "total_students_number=school_data_complete ['student_name'].count()\n",
    "total_students_number"
   ]
  },
  {
   "cell_type": "code",
   "execution_count": 4,
   "metadata": {},
   "outputs": [
    {
     "data": {
      "text/plain": [
       "24649428"
      ]
     },
     "execution_count": 4,
     "metadata": {},
     "output_type": "execute_result"
    }
   ],
   "source": [
    "# Calculate the total budget\n",
    "total_budget = school_data[\"budget\"].sum()\n",
    "total_budget"
   ]
  },
  {
   "cell_type": "code",
   "execution_count": 5,
   "metadata": {},
   "outputs": [
    {
     "data": {
      "text/plain": [
       "78.98537145774827"
      ]
     },
     "execution_count": 5,
     "metadata": {},
     "output_type": "execute_result"
    }
   ],
   "source": [
    "# Calculate the average math score.\n",
    "average_math_score = school_data_complete[\"math_score\"].mean()\n",
    "average_math_score"
   ]
  },
  {
   "cell_type": "code",
   "execution_count": 6,
   "metadata": {},
   "outputs": [
    {
     "data": {
      "text/plain": [
       "81.87784018381414"
      ]
     },
     "execution_count": 6,
     "metadata": {},
     "output_type": "execute_result"
    }
   ],
   "source": [
    "# Calculate the average reading score\n",
    "average_reading_score = school_data_complete[\"reading_score\"].mean()\n",
    "average_reading_score"
   ]
  },
  {
   "cell_type": "code",
   "execution_count": 7,
   "metadata": {},
   "outputs": [
    {
     "data": {
      "text/plain": [
       "74.9808526933878"
      ]
     },
     "execution_count": 7,
     "metadata": {},
     "output_type": "execute_result"
    }
   ],
   "source": [
    "#Calculate the percentage of students with a passing math score (70 or greater)\n",
    "students_passing_math = school_data_complete.loc[school_data_complete[\"math_score\"] >= 70]\n",
    "number_students_passing_math = students_passing_math[\"Student ID\"].count()\n",
    "\n",
    "percent_passing_math = (number_students_passing_math / total_students_number) * 100\n",
    "\n",
    "percent_passing_math"
   ]
  },
  {
   "cell_type": "code",
   "execution_count": 8,
   "metadata": {},
   "outputs": [
    {
     "data": {
      "text/plain": [
       "85.80546336482001"
      ]
     },
     "execution_count": 8,
     "metadata": {},
     "output_type": "execute_result"
    }
   ],
   "source": [
    "# Calculate the percentage of students with a passing reading score (70 or greater)\n",
    "students_passing_reading = school_data_complete.loc[school_data_complete[\"reading_score\"] >= 70]\n",
    "number_students_passing_reading = students_passing_reading[\"Student ID\"].count()\n",
    "\n",
    "percent_passing_reading = (number_students_passing_reading / total_students_number) * 100\n",
    "percent_passing_reading"
   ]
  },
  {
   "cell_type": "code",
   "execution_count": 9,
   "metadata": {},
   "outputs": [
    {
     "data": {
      "text/plain": [
       "65.17232575950983"
      ]
     },
     "execution_count": 9,
     "metadata": {},
     "output_type": "execute_result"
    }
   ],
   "source": [
    "# Calculate the percentage of students who passed math and reading (% Overall Passing)\n",
    "\n",
    "Overall_passing = school_data_complete[(school_data_complete['math_score'] >= 70) & (school_data_complete['reading_score'] >= 70)]['Student ID'].count()/total_students_number*100\n",
    "Overall_passing\n"
   ]
  },
  {
   "cell_type": "code",
   "execution_count": 10,
   "metadata": {},
   "outputs": [
    {
     "data": {
      "text/html": [
       "<div>\n",
       "<style scoped>\n",
       "    .dataframe tbody tr th:only-of-type {\n",
       "        vertical-align: middle;\n",
       "    }\n",
       "\n",
       "    .dataframe tbody tr th {\n",
       "        vertical-align: top;\n",
       "    }\n",
       "\n",
       "    .dataframe thead th {\n",
       "        text-align: right;\n",
       "    }\n",
       "</style>\n",
       "<table border=\"1\" class=\"dataframe\">\n",
       "  <thead>\n",
       "    <tr style=\"text-align: right;\">\n",
       "      <th></th>\n",
       "      <th>Total Schools</th>\n",
       "      <th>Total Students</th>\n",
       "      <th>Total Budget</th>\n",
       "      <th>Average Math Score</th>\n",
       "      <th>Average Reading Score</th>\n",
       "      <th>% Passing Math</th>\n",
       "      <th>% Passing Reading</th>\n",
       "      <th>% Overall Passing</th>\n",
       "    </tr>\n",
       "  </thead>\n",
       "  <tbody>\n",
       "    <tr>\n",
       "      <th>0</th>\n",
       "      <td>15</td>\n",
       "      <td>39,170</td>\n",
       "      <td>$24,649,428.00</td>\n",
       "      <td>79.0</td>\n",
       "      <td>81.9</td>\n",
       "      <td>%75.0</td>\n",
       "      <td>%85.8</td>\n",
       "      <td>% 65</td>\n",
       "    </tr>\n",
       "  </tbody>\n",
       "</table>\n",
       "</div>"
      ],
      "text/plain": [
       "   Total Schools Total Students    Total Budget Average Math Score  \\\n",
       "0             15         39,170  $24,649,428.00               79.0   \n",
       "\n",
       "  Average Reading Score % Passing Math % Passing Reading % Overall Passing  \n",
       "0                  81.9          %75.0             %85.8              % 65  "
      ]
     },
     "execution_count": 10,
     "metadata": {},
     "output_type": "execute_result"
    }
   ],
   "source": [
    "# Create a dataframe to hold the above results\n",
    "district_summary = pd.DataFrame({\n",
    "    \"Total Schools\": total_school_number,\n",
    "    \"Total Students\": f\"{total_students_number:,}\",\n",
    "    \"Total Budget\": f\"${total_budget:,.2f}\",\n",
    "    \"Average Math Score\": f\"{average_math_score:.1f}\",\n",
    "    \"Average Reading Score\": f\"{average_reading_score:.1f}\",\n",
    "    \"% Passing Math\": f\"%{percent_passing_math:.1f}\",\n",
    "    \"% Passing Reading\": f\"%{percent_passing_reading:.1f}\",\n",
    "    \"% Overall Passing\": f\"%{Overall_passing: .0f}\"\n",
    "}, index=[0])\n",
    "\n",
    "district_summary"
   ]
  },
  {
   "cell_type": "markdown",
   "metadata": {},
   "source": [
    "## School Summary"
   ]
  },
  {
   "cell_type": "markdown",
   "metadata": {},
   "source": [
    "* Create an overview table that summarizes key metrics about each school, including:\n",
    "  * School Name\n",
    "  * School Type\n",
    "  * Total Students\n",
    "  * Total School Budget\n",
    "  * Per Student Budget\n",
    "  * Average Math Score\n",
    "  * Average Reading Score\n",
    "  * % Passing Math\n",
    "  * % Passing Reading\n",
    "  * % Overall Passing (The percentage of students that passed math **and** reading.)\n",
    "  \n",
    "* Create a dataframe to hold the above results"
   ]
  },
  {
   "cell_type": "code",
   "execution_count": 30,
   "metadata": {},
   "outputs": [],
   "source": [
    "#School Name\n",
    "school_name = school_data_complete.set_index('school_name').groupby(['school_name'])\n",
    "# school types by school name\n",
    "school_type = school_data.set_index('school_name')['type']\n",
    "#  Calculate total students\n",
    "total_student = school_name['Student ID'].count()\n",
    " # Total school budget\n",
    "total_school_budget = school_data.set_index('school_name')['budget']\n",
    "# per student budget\n",
    "budget_per_student = (school_data.set_index('school_name')['budget']/school_data.set_index('school_name')['size'])\n",
    "# Average Math Score\n",
    "\n",
    "average_math_score = school_name['math_score'].mean()\n",
    "# Average Reading Score\n",
    "average_reading_score = school_name['reading_score'].mean()\n",
    "\n",
    "pass_math_percent = school_data_complete[school_data_complete['math_score'] >= 70].groupby('school_name')['Student ID'].count()/total_student*100\n",
    "# % Passing Reading\n",
    "\n",
    "pass_read_percent = school_data_complete[school_data_complete['reading_score'] >= 70].groupby('school_name')['Student ID'].count()/total_student*100\n",
    "# % Overall Passing (The percentage of students that passed math and reading.\n",
    "\n"
   ]
  },
  {
   "cell_type": "code",
   "execution_count": 31,
   "metadata": {},
   "outputs": [],
   "source": [
    "overall_pass = school_data_complete[(school_data_complete['reading_score'] >= 70) & (school_data_complete['math_score'] >= 70)].groupby('school_name')['Student ID'].count()/total_student*100\n",
    "    "
   ]
  },
  {
   "cell_type": "code",
   "execution_count": 13,
   "metadata": {},
   "outputs": [
    {
     "data": {
      "text/html": [
       "<style  type=\"text/css\" >\n",
       "</style><table id=\"T_ce76635a_973c_11eb_af32_9801a78f88c3\" ><thead>    <tr>        <th class=\"blank level0\" ></th>        <th class=\"col_heading level0 col0\" >School Type</th>        <th class=\"col_heading level0 col1\" >Total Students</th>        <th class=\"col_heading level0 col2\" >Total School Budget</th>        <th class=\"col_heading level0 col3\" >Per Student Budget</th>        <th class=\"col_heading level0 col4\" >Average Math Score</th>        <th class=\"col_heading level0 col5\" >Average Reading Score</th>        <th class=\"col_heading level0 col6\" >% Passing Math</th>        <th class=\"col_heading level0 col7\" >% Passing Reading</th>        <th class=\"col_heading level0 col8\" >% Overall Passing</th>    </tr></thead><tbody>\n",
       "                <tr>\n",
       "                        <th id=\"T_ce76635a_973c_11eb_af32_9801a78f88c3level0_row0\" class=\"row_heading level0 row0\" >Bailey High School</th>\n",
       "                        <td id=\"T_ce76635a_973c_11eb_af32_9801a78f88c3row0_col0\" class=\"data row0 col0\" >District</td>\n",
       "                        <td id=\"T_ce76635a_973c_11eb_af32_9801a78f88c3row0_col1\" class=\"data row0 col1\" >4976</td>\n",
       "                        <td id=\"T_ce76635a_973c_11eb_af32_9801a78f88c3row0_col2\" class=\"data row0 col2\" >$3,124,928.00</td>\n",
       "                        <td id=\"T_ce76635a_973c_11eb_af32_9801a78f88c3row0_col3\" class=\"data row0 col3\" >$628.00</td>\n",
       "                        <td id=\"T_ce76635a_973c_11eb_af32_9801a78f88c3row0_col4\" class=\"data row0 col4\" >77.048432</td>\n",
       "                        <td id=\"T_ce76635a_973c_11eb_af32_9801a78f88c3row0_col5\" class=\"data row0 col5\" >81.033963</td>\n",
       "                        <td id=\"T_ce76635a_973c_11eb_af32_9801a78f88c3row0_col6\" class=\"data row0 col6\" >%66.680064</td>\n",
       "                        <td id=\"T_ce76635a_973c_11eb_af32_9801a78f88c3row0_col7\" class=\"data row0 col7\" >%81.933280</td>\n",
       "                        <td id=\"T_ce76635a_973c_11eb_af32_9801a78f88c3row0_col8\" class=\"data row0 col8\" >54.642283</td>\n",
       "            </tr>\n",
       "            <tr>\n",
       "                        <th id=\"T_ce76635a_973c_11eb_af32_9801a78f88c3level0_row1\" class=\"row_heading level0 row1\" >Cabrera High School</th>\n",
       "                        <td id=\"T_ce76635a_973c_11eb_af32_9801a78f88c3row1_col0\" class=\"data row1 col0\" >Charter</td>\n",
       "                        <td id=\"T_ce76635a_973c_11eb_af32_9801a78f88c3row1_col1\" class=\"data row1 col1\" >1858</td>\n",
       "                        <td id=\"T_ce76635a_973c_11eb_af32_9801a78f88c3row1_col2\" class=\"data row1 col2\" >$1,081,356.00</td>\n",
       "                        <td id=\"T_ce76635a_973c_11eb_af32_9801a78f88c3row1_col3\" class=\"data row1 col3\" >$582.00</td>\n",
       "                        <td id=\"T_ce76635a_973c_11eb_af32_9801a78f88c3row1_col4\" class=\"data row1 col4\" >83.061895</td>\n",
       "                        <td id=\"T_ce76635a_973c_11eb_af32_9801a78f88c3row1_col5\" class=\"data row1 col5\" >83.975780</td>\n",
       "                        <td id=\"T_ce76635a_973c_11eb_af32_9801a78f88c3row1_col6\" class=\"data row1 col6\" >%94.133477</td>\n",
       "                        <td id=\"T_ce76635a_973c_11eb_af32_9801a78f88c3row1_col7\" class=\"data row1 col7\" >%97.039828</td>\n",
       "                        <td id=\"T_ce76635a_973c_11eb_af32_9801a78f88c3row1_col8\" class=\"data row1 col8\" >91.334769</td>\n",
       "            </tr>\n",
       "            <tr>\n",
       "                        <th id=\"T_ce76635a_973c_11eb_af32_9801a78f88c3level0_row2\" class=\"row_heading level0 row2\" >Figueroa High School</th>\n",
       "                        <td id=\"T_ce76635a_973c_11eb_af32_9801a78f88c3row2_col0\" class=\"data row2 col0\" >District</td>\n",
       "                        <td id=\"T_ce76635a_973c_11eb_af32_9801a78f88c3row2_col1\" class=\"data row2 col1\" >2949</td>\n",
       "                        <td id=\"T_ce76635a_973c_11eb_af32_9801a78f88c3row2_col2\" class=\"data row2 col2\" >$1,884,411.00</td>\n",
       "                        <td id=\"T_ce76635a_973c_11eb_af32_9801a78f88c3row2_col3\" class=\"data row2 col3\" >$639.00</td>\n",
       "                        <td id=\"T_ce76635a_973c_11eb_af32_9801a78f88c3row2_col4\" class=\"data row2 col4\" >76.711767</td>\n",
       "                        <td id=\"T_ce76635a_973c_11eb_af32_9801a78f88c3row2_col5\" class=\"data row2 col5\" >81.158020</td>\n",
       "                        <td id=\"T_ce76635a_973c_11eb_af32_9801a78f88c3row2_col6\" class=\"data row2 col6\" >%65.988471</td>\n",
       "                        <td id=\"T_ce76635a_973c_11eb_af32_9801a78f88c3row2_col7\" class=\"data row2 col7\" >%80.739234</td>\n",
       "                        <td id=\"T_ce76635a_973c_11eb_af32_9801a78f88c3row2_col8\" class=\"data row2 col8\" >53.204476</td>\n",
       "            </tr>\n",
       "            <tr>\n",
       "                        <th id=\"T_ce76635a_973c_11eb_af32_9801a78f88c3level0_row3\" class=\"row_heading level0 row3\" >Ford High School</th>\n",
       "                        <td id=\"T_ce76635a_973c_11eb_af32_9801a78f88c3row3_col0\" class=\"data row3 col0\" >District</td>\n",
       "                        <td id=\"T_ce76635a_973c_11eb_af32_9801a78f88c3row3_col1\" class=\"data row3 col1\" >2739</td>\n",
       "                        <td id=\"T_ce76635a_973c_11eb_af32_9801a78f88c3row3_col2\" class=\"data row3 col2\" >$1,763,916.00</td>\n",
       "                        <td id=\"T_ce76635a_973c_11eb_af32_9801a78f88c3row3_col3\" class=\"data row3 col3\" >$644.00</td>\n",
       "                        <td id=\"T_ce76635a_973c_11eb_af32_9801a78f88c3row3_col4\" class=\"data row3 col4\" >77.102592</td>\n",
       "                        <td id=\"T_ce76635a_973c_11eb_af32_9801a78f88c3row3_col5\" class=\"data row3 col5\" >80.746258</td>\n",
       "                        <td id=\"T_ce76635a_973c_11eb_af32_9801a78f88c3row3_col6\" class=\"data row3 col6\" >%68.309602</td>\n",
       "                        <td id=\"T_ce76635a_973c_11eb_af32_9801a78f88c3row3_col7\" class=\"data row3 col7\" >%79.299014</td>\n",
       "                        <td id=\"T_ce76635a_973c_11eb_af32_9801a78f88c3row3_col8\" class=\"data row3 col8\" >54.289887</td>\n",
       "            </tr>\n",
       "            <tr>\n",
       "                        <th id=\"T_ce76635a_973c_11eb_af32_9801a78f88c3level0_row4\" class=\"row_heading level0 row4\" >Griffin High School</th>\n",
       "                        <td id=\"T_ce76635a_973c_11eb_af32_9801a78f88c3row4_col0\" class=\"data row4 col0\" >Charter</td>\n",
       "                        <td id=\"T_ce76635a_973c_11eb_af32_9801a78f88c3row4_col1\" class=\"data row4 col1\" >1468</td>\n",
       "                        <td id=\"T_ce76635a_973c_11eb_af32_9801a78f88c3row4_col2\" class=\"data row4 col2\" >$917,500.00</td>\n",
       "                        <td id=\"T_ce76635a_973c_11eb_af32_9801a78f88c3row4_col3\" class=\"data row4 col3\" >$625.00</td>\n",
       "                        <td id=\"T_ce76635a_973c_11eb_af32_9801a78f88c3row4_col4\" class=\"data row4 col4\" >83.351499</td>\n",
       "                        <td id=\"T_ce76635a_973c_11eb_af32_9801a78f88c3row4_col5\" class=\"data row4 col5\" >83.816757</td>\n",
       "                        <td id=\"T_ce76635a_973c_11eb_af32_9801a78f88c3row4_col6\" class=\"data row4 col6\" >%93.392371</td>\n",
       "                        <td id=\"T_ce76635a_973c_11eb_af32_9801a78f88c3row4_col7\" class=\"data row4 col7\" >%97.138965</td>\n",
       "                        <td id=\"T_ce76635a_973c_11eb_af32_9801a78f88c3row4_col8\" class=\"data row4 col8\" >90.599455</td>\n",
       "            </tr>\n",
       "            <tr>\n",
       "                        <th id=\"T_ce76635a_973c_11eb_af32_9801a78f88c3level0_row5\" class=\"row_heading level0 row5\" >Hernandez High School</th>\n",
       "                        <td id=\"T_ce76635a_973c_11eb_af32_9801a78f88c3row5_col0\" class=\"data row5 col0\" >District</td>\n",
       "                        <td id=\"T_ce76635a_973c_11eb_af32_9801a78f88c3row5_col1\" class=\"data row5 col1\" >4635</td>\n",
       "                        <td id=\"T_ce76635a_973c_11eb_af32_9801a78f88c3row5_col2\" class=\"data row5 col2\" >$3,022,020.00</td>\n",
       "                        <td id=\"T_ce76635a_973c_11eb_af32_9801a78f88c3row5_col3\" class=\"data row5 col3\" >$652.00</td>\n",
       "                        <td id=\"T_ce76635a_973c_11eb_af32_9801a78f88c3row5_col4\" class=\"data row5 col4\" >77.289752</td>\n",
       "                        <td id=\"T_ce76635a_973c_11eb_af32_9801a78f88c3row5_col5\" class=\"data row5 col5\" >80.934412</td>\n",
       "                        <td id=\"T_ce76635a_973c_11eb_af32_9801a78f88c3row5_col6\" class=\"data row5 col6\" >%66.752967</td>\n",
       "                        <td id=\"T_ce76635a_973c_11eb_af32_9801a78f88c3row5_col7\" class=\"data row5 col7\" >%80.862999</td>\n",
       "                        <td id=\"T_ce76635a_973c_11eb_af32_9801a78f88c3row5_col8\" class=\"data row5 col8\" >53.527508</td>\n",
       "            </tr>\n",
       "            <tr>\n",
       "                        <th id=\"T_ce76635a_973c_11eb_af32_9801a78f88c3level0_row6\" class=\"row_heading level0 row6\" >Holden High School</th>\n",
       "                        <td id=\"T_ce76635a_973c_11eb_af32_9801a78f88c3row6_col0\" class=\"data row6 col0\" >Charter</td>\n",
       "                        <td id=\"T_ce76635a_973c_11eb_af32_9801a78f88c3row6_col1\" class=\"data row6 col1\" >427</td>\n",
       "                        <td id=\"T_ce76635a_973c_11eb_af32_9801a78f88c3row6_col2\" class=\"data row6 col2\" >$248,087.00</td>\n",
       "                        <td id=\"T_ce76635a_973c_11eb_af32_9801a78f88c3row6_col3\" class=\"data row6 col3\" >$581.00</td>\n",
       "                        <td id=\"T_ce76635a_973c_11eb_af32_9801a78f88c3row6_col4\" class=\"data row6 col4\" >83.803279</td>\n",
       "                        <td id=\"T_ce76635a_973c_11eb_af32_9801a78f88c3row6_col5\" class=\"data row6 col5\" >83.814988</td>\n",
       "                        <td id=\"T_ce76635a_973c_11eb_af32_9801a78f88c3row6_col6\" class=\"data row6 col6\" >%92.505855</td>\n",
       "                        <td id=\"T_ce76635a_973c_11eb_af32_9801a78f88c3row6_col7\" class=\"data row6 col7\" >%96.252927</td>\n",
       "                        <td id=\"T_ce76635a_973c_11eb_af32_9801a78f88c3row6_col8\" class=\"data row6 col8\" >89.227166</td>\n",
       "            </tr>\n",
       "            <tr>\n",
       "                        <th id=\"T_ce76635a_973c_11eb_af32_9801a78f88c3level0_row7\" class=\"row_heading level0 row7\" >Huang High School</th>\n",
       "                        <td id=\"T_ce76635a_973c_11eb_af32_9801a78f88c3row7_col0\" class=\"data row7 col0\" >District</td>\n",
       "                        <td id=\"T_ce76635a_973c_11eb_af32_9801a78f88c3row7_col1\" class=\"data row7 col1\" >2917</td>\n",
       "                        <td id=\"T_ce76635a_973c_11eb_af32_9801a78f88c3row7_col2\" class=\"data row7 col2\" >$1,910,635.00</td>\n",
       "                        <td id=\"T_ce76635a_973c_11eb_af32_9801a78f88c3row7_col3\" class=\"data row7 col3\" >$655.00</td>\n",
       "                        <td id=\"T_ce76635a_973c_11eb_af32_9801a78f88c3row7_col4\" class=\"data row7 col4\" >76.629414</td>\n",
       "                        <td id=\"T_ce76635a_973c_11eb_af32_9801a78f88c3row7_col5\" class=\"data row7 col5\" >81.182722</td>\n",
       "                        <td id=\"T_ce76635a_973c_11eb_af32_9801a78f88c3row7_col6\" class=\"data row7 col6\" >%65.683922</td>\n",
       "                        <td id=\"T_ce76635a_973c_11eb_af32_9801a78f88c3row7_col7\" class=\"data row7 col7\" >%81.316421</td>\n",
       "                        <td id=\"T_ce76635a_973c_11eb_af32_9801a78f88c3row7_col8\" class=\"data row7 col8\" >53.513884</td>\n",
       "            </tr>\n",
       "            <tr>\n",
       "                        <th id=\"T_ce76635a_973c_11eb_af32_9801a78f88c3level0_row8\" class=\"row_heading level0 row8\" >Johnson High School</th>\n",
       "                        <td id=\"T_ce76635a_973c_11eb_af32_9801a78f88c3row8_col0\" class=\"data row8 col0\" >District</td>\n",
       "                        <td id=\"T_ce76635a_973c_11eb_af32_9801a78f88c3row8_col1\" class=\"data row8 col1\" >4761</td>\n",
       "                        <td id=\"T_ce76635a_973c_11eb_af32_9801a78f88c3row8_col2\" class=\"data row8 col2\" >$3,094,650.00</td>\n",
       "                        <td id=\"T_ce76635a_973c_11eb_af32_9801a78f88c3row8_col3\" class=\"data row8 col3\" >$650.00</td>\n",
       "                        <td id=\"T_ce76635a_973c_11eb_af32_9801a78f88c3row8_col4\" class=\"data row8 col4\" >77.072464</td>\n",
       "                        <td id=\"T_ce76635a_973c_11eb_af32_9801a78f88c3row8_col5\" class=\"data row8 col5\" >80.966394</td>\n",
       "                        <td id=\"T_ce76635a_973c_11eb_af32_9801a78f88c3row8_col6\" class=\"data row8 col6\" >%66.057551</td>\n",
       "                        <td id=\"T_ce76635a_973c_11eb_af32_9801a78f88c3row8_col7\" class=\"data row8 col7\" >%81.222432</td>\n",
       "                        <td id=\"T_ce76635a_973c_11eb_af32_9801a78f88c3row8_col8\" class=\"data row8 col8\" >53.539172</td>\n",
       "            </tr>\n",
       "            <tr>\n",
       "                        <th id=\"T_ce76635a_973c_11eb_af32_9801a78f88c3level0_row9\" class=\"row_heading level0 row9\" >Pena High School</th>\n",
       "                        <td id=\"T_ce76635a_973c_11eb_af32_9801a78f88c3row9_col0\" class=\"data row9 col0\" >Charter</td>\n",
       "                        <td id=\"T_ce76635a_973c_11eb_af32_9801a78f88c3row9_col1\" class=\"data row9 col1\" >962</td>\n",
       "                        <td id=\"T_ce76635a_973c_11eb_af32_9801a78f88c3row9_col2\" class=\"data row9 col2\" >$585,858.00</td>\n",
       "                        <td id=\"T_ce76635a_973c_11eb_af32_9801a78f88c3row9_col3\" class=\"data row9 col3\" >$609.00</td>\n",
       "                        <td id=\"T_ce76635a_973c_11eb_af32_9801a78f88c3row9_col4\" class=\"data row9 col4\" >83.839917</td>\n",
       "                        <td id=\"T_ce76635a_973c_11eb_af32_9801a78f88c3row9_col5\" class=\"data row9 col5\" >84.044699</td>\n",
       "                        <td id=\"T_ce76635a_973c_11eb_af32_9801a78f88c3row9_col6\" class=\"data row9 col6\" >%94.594595</td>\n",
       "                        <td id=\"T_ce76635a_973c_11eb_af32_9801a78f88c3row9_col7\" class=\"data row9 col7\" >%95.945946</td>\n",
       "                        <td id=\"T_ce76635a_973c_11eb_af32_9801a78f88c3row9_col8\" class=\"data row9 col8\" >90.540541</td>\n",
       "            </tr>\n",
       "            <tr>\n",
       "                        <th id=\"T_ce76635a_973c_11eb_af32_9801a78f88c3level0_row10\" class=\"row_heading level0 row10\" >Rodriguez High School</th>\n",
       "                        <td id=\"T_ce76635a_973c_11eb_af32_9801a78f88c3row10_col0\" class=\"data row10 col0\" >District</td>\n",
       "                        <td id=\"T_ce76635a_973c_11eb_af32_9801a78f88c3row10_col1\" class=\"data row10 col1\" >3999</td>\n",
       "                        <td id=\"T_ce76635a_973c_11eb_af32_9801a78f88c3row10_col2\" class=\"data row10 col2\" >$2,547,363.00</td>\n",
       "                        <td id=\"T_ce76635a_973c_11eb_af32_9801a78f88c3row10_col3\" class=\"data row10 col3\" >$637.00</td>\n",
       "                        <td id=\"T_ce76635a_973c_11eb_af32_9801a78f88c3row10_col4\" class=\"data row10 col4\" >76.842711</td>\n",
       "                        <td id=\"T_ce76635a_973c_11eb_af32_9801a78f88c3row10_col5\" class=\"data row10 col5\" >80.744686</td>\n",
       "                        <td id=\"T_ce76635a_973c_11eb_af32_9801a78f88c3row10_col6\" class=\"data row10 col6\" >%66.366592</td>\n",
       "                        <td id=\"T_ce76635a_973c_11eb_af32_9801a78f88c3row10_col7\" class=\"data row10 col7\" >%80.220055</td>\n",
       "                        <td id=\"T_ce76635a_973c_11eb_af32_9801a78f88c3row10_col8\" class=\"data row10 col8\" >52.988247</td>\n",
       "            </tr>\n",
       "            <tr>\n",
       "                        <th id=\"T_ce76635a_973c_11eb_af32_9801a78f88c3level0_row11\" class=\"row_heading level0 row11\" >Shelton High School</th>\n",
       "                        <td id=\"T_ce76635a_973c_11eb_af32_9801a78f88c3row11_col0\" class=\"data row11 col0\" >Charter</td>\n",
       "                        <td id=\"T_ce76635a_973c_11eb_af32_9801a78f88c3row11_col1\" class=\"data row11 col1\" >1761</td>\n",
       "                        <td id=\"T_ce76635a_973c_11eb_af32_9801a78f88c3row11_col2\" class=\"data row11 col2\" >$1,056,600.00</td>\n",
       "                        <td id=\"T_ce76635a_973c_11eb_af32_9801a78f88c3row11_col3\" class=\"data row11 col3\" >$600.00</td>\n",
       "                        <td id=\"T_ce76635a_973c_11eb_af32_9801a78f88c3row11_col4\" class=\"data row11 col4\" >83.359455</td>\n",
       "                        <td id=\"T_ce76635a_973c_11eb_af32_9801a78f88c3row11_col5\" class=\"data row11 col5\" >83.725724</td>\n",
       "                        <td id=\"T_ce76635a_973c_11eb_af32_9801a78f88c3row11_col6\" class=\"data row11 col6\" >%93.867121</td>\n",
       "                        <td id=\"T_ce76635a_973c_11eb_af32_9801a78f88c3row11_col7\" class=\"data row11 col7\" >%95.854628</td>\n",
       "                        <td id=\"T_ce76635a_973c_11eb_af32_9801a78f88c3row11_col8\" class=\"data row11 col8\" >89.892107</td>\n",
       "            </tr>\n",
       "            <tr>\n",
       "                        <th id=\"T_ce76635a_973c_11eb_af32_9801a78f88c3level0_row12\" class=\"row_heading level0 row12\" >Thomas High School</th>\n",
       "                        <td id=\"T_ce76635a_973c_11eb_af32_9801a78f88c3row12_col0\" class=\"data row12 col0\" >Charter</td>\n",
       "                        <td id=\"T_ce76635a_973c_11eb_af32_9801a78f88c3row12_col1\" class=\"data row12 col1\" >1635</td>\n",
       "                        <td id=\"T_ce76635a_973c_11eb_af32_9801a78f88c3row12_col2\" class=\"data row12 col2\" >$1,043,130.00</td>\n",
       "                        <td id=\"T_ce76635a_973c_11eb_af32_9801a78f88c3row12_col3\" class=\"data row12 col3\" >$638.00</td>\n",
       "                        <td id=\"T_ce76635a_973c_11eb_af32_9801a78f88c3row12_col4\" class=\"data row12 col4\" >83.418349</td>\n",
       "                        <td id=\"T_ce76635a_973c_11eb_af32_9801a78f88c3row12_col5\" class=\"data row12 col5\" >83.848930</td>\n",
       "                        <td id=\"T_ce76635a_973c_11eb_af32_9801a78f88c3row12_col6\" class=\"data row12 col6\" >%93.272171</td>\n",
       "                        <td id=\"T_ce76635a_973c_11eb_af32_9801a78f88c3row12_col7\" class=\"data row12 col7\" >%97.308869</td>\n",
       "                        <td id=\"T_ce76635a_973c_11eb_af32_9801a78f88c3row12_col8\" class=\"data row12 col8\" >90.948012</td>\n",
       "            </tr>\n",
       "            <tr>\n",
       "                        <th id=\"T_ce76635a_973c_11eb_af32_9801a78f88c3level0_row13\" class=\"row_heading level0 row13\" >Wilson High School</th>\n",
       "                        <td id=\"T_ce76635a_973c_11eb_af32_9801a78f88c3row13_col0\" class=\"data row13 col0\" >Charter</td>\n",
       "                        <td id=\"T_ce76635a_973c_11eb_af32_9801a78f88c3row13_col1\" class=\"data row13 col1\" >2283</td>\n",
       "                        <td id=\"T_ce76635a_973c_11eb_af32_9801a78f88c3row13_col2\" class=\"data row13 col2\" >$1,319,574.00</td>\n",
       "                        <td id=\"T_ce76635a_973c_11eb_af32_9801a78f88c3row13_col3\" class=\"data row13 col3\" >$578.00</td>\n",
       "                        <td id=\"T_ce76635a_973c_11eb_af32_9801a78f88c3row13_col4\" class=\"data row13 col4\" >83.274201</td>\n",
       "                        <td id=\"T_ce76635a_973c_11eb_af32_9801a78f88c3row13_col5\" class=\"data row13 col5\" >83.989488</td>\n",
       "                        <td id=\"T_ce76635a_973c_11eb_af32_9801a78f88c3row13_col6\" class=\"data row13 col6\" >%93.867718</td>\n",
       "                        <td id=\"T_ce76635a_973c_11eb_af32_9801a78f88c3row13_col7\" class=\"data row13 col7\" >%96.539641</td>\n",
       "                        <td id=\"T_ce76635a_973c_11eb_af32_9801a78f88c3row13_col8\" class=\"data row13 col8\" >90.582567</td>\n",
       "            </tr>\n",
       "            <tr>\n",
       "                        <th id=\"T_ce76635a_973c_11eb_af32_9801a78f88c3level0_row14\" class=\"row_heading level0 row14\" >Wright High School</th>\n",
       "                        <td id=\"T_ce76635a_973c_11eb_af32_9801a78f88c3row14_col0\" class=\"data row14 col0\" >Charter</td>\n",
       "                        <td id=\"T_ce76635a_973c_11eb_af32_9801a78f88c3row14_col1\" class=\"data row14 col1\" >1800</td>\n",
       "                        <td id=\"T_ce76635a_973c_11eb_af32_9801a78f88c3row14_col2\" class=\"data row14 col2\" >$1,049,400.00</td>\n",
       "                        <td id=\"T_ce76635a_973c_11eb_af32_9801a78f88c3row14_col3\" class=\"data row14 col3\" >$583.00</td>\n",
       "                        <td id=\"T_ce76635a_973c_11eb_af32_9801a78f88c3row14_col4\" class=\"data row14 col4\" >83.682222</td>\n",
       "                        <td id=\"T_ce76635a_973c_11eb_af32_9801a78f88c3row14_col5\" class=\"data row14 col5\" >83.955000</td>\n",
       "                        <td id=\"T_ce76635a_973c_11eb_af32_9801a78f88c3row14_col6\" class=\"data row14 col6\" >%93.333333</td>\n",
       "                        <td id=\"T_ce76635a_973c_11eb_af32_9801a78f88c3row14_col7\" class=\"data row14 col7\" >%96.611111</td>\n",
       "                        <td id=\"T_ce76635a_973c_11eb_af32_9801a78f88c3row14_col8\" class=\"data row14 col8\" >90.333333</td>\n",
       "            </tr>\n",
       "    </tbody></table>"
      ],
      "text/plain": [
       "<pandas.io.formats.style.Styler at 0x7f8ee98625b0>"
      ]
     },
     "execution_count": 13,
     "metadata": {},
     "output_type": "execute_result"
    }
   ],
   "source": [
    "school_summary = pd.DataFrame({\n",
    "    \"School Type\": school_type,\n",
    "    \"Total Students\": total_student,\n",
    "    \"Per Student Budget\": budget_per_student,\n",
    "    \"Total School Budget\": total_school_budget,\n",
    "    \"Average Math Score\": average_math_score,\n",
    "    \"Average Reading Score\": average_reading_score,\n",
    "    '% Passing Math': pass_math_percent,\n",
    "    '% Passing Reading': pass_read_percent,\n",
    "    \"% Overall Passing\": overall_pass\n",
    "})\n",
    "#munging\n",
    "school_summary = school_summary[['School Type', \n",
    "                          'Total Students', \n",
    "                          'Total School Budget', \n",
    "                          'Per Student Budget', \n",
    "                          'Average Math Score', \n",
    "                          'Average Reading Score',\n",
    "                          '% Passing Math',\n",
    "                          '% Passing Reading',\n",
    "                          '% Overall Passing']]\n",
    "#formatting\n",
    "school_summary.style.format({'Total Students': '{:}',\n",
    "                          \"Total School Budget\": \"${:,.2f}\",\n",
    "                          \"Per Student Budget\": \"${:,.2f}\",\n",
    "                          'Average Math Score': \"{:1f}\", \n",
    "                          'Average Reading Score': \"{:1f}\", \n",
    "                          \"% Passing Math\": \"%{:1f}\", \n",
    "                          \"% Passing Reading\":\"%{:1f}\"})\n"
   ]
  },
  {
   "cell_type": "markdown",
   "metadata": {},
   "source": [
    "## Top Performing Schools (By % Overall Passing)"
   ]
  },
  {
   "cell_type": "markdown",
   "metadata": {},
   "source": [
    "* Sort and display the top five performing schools by % overall passing."
   ]
  },
  {
   "cell_type": "code",
   "execution_count": 14,
   "metadata": {
    "scrolled": true
   },
   "outputs": [
    {
     "data": {
      "text/html": [
       "<style  type=\"text/css\" >\n",
       "</style><table id=\"T_ce7883d8_973c_11eb_af32_9801a78f88c3\" ><thead>    <tr>        <th class=\"blank level0\" ></th>        <th class=\"col_heading level0 col0\" >School Type</th>        <th class=\"col_heading level0 col1\" >Total Students</th>        <th class=\"col_heading level0 col2\" >Total School Budget</th>        <th class=\"col_heading level0 col3\" >Per Student Budget</th>        <th class=\"col_heading level0 col4\" >Average Math Score</th>        <th class=\"col_heading level0 col5\" >Average Reading Score</th>        <th class=\"col_heading level0 col6\" >% Passing Math</th>        <th class=\"col_heading level0 col7\" >% Passing Reading</th>        <th class=\"col_heading level0 col8\" >% Overall Passing</th>    </tr></thead><tbody>\n",
       "                <tr>\n",
       "                        <th id=\"T_ce7883d8_973c_11eb_af32_9801a78f88c3level0_row0\" class=\"row_heading level0 row0\" >Cabrera High School</th>\n",
       "                        <td id=\"T_ce7883d8_973c_11eb_af32_9801a78f88c3row0_col0\" class=\"data row0 col0\" >Charter</td>\n",
       "                        <td id=\"T_ce7883d8_973c_11eb_af32_9801a78f88c3row0_col1\" class=\"data row0 col1\" >1858</td>\n",
       "                        <td id=\"T_ce7883d8_973c_11eb_af32_9801a78f88c3row0_col2\" class=\"data row0 col2\" >$1,081,356.00</td>\n",
       "                        <td id=\"T_ce7883d8_973c_11eb_af32_9801a78f88c3row0_col3\" class=\"data row0 col3\" >$582.00</td>\n",
       "                        <td id=\"T_ce7883d8_973c_11eb_af32_9801a78f88c3row0_col4\" class=\"data row0 col4\" >83.061895</td>\n",
       "                        <td id=\"T_ce7883d8_973c_11eb_af32_9801a78f88c3row0_col5\" class=\"data row0 col5\" >83.975780</td>\n",
       "                        <td id=\"T_ce7883d8_973c_11eb_af32_9801a78f88c3row0_col6\" class=\"data row0 col6\" >94.1</td>\n",
       "                        <td id=\"T_ce7883d8_973c_11eb_af32_9801a78f88c3row0_col7\" class=\"data row0 col7\" >97.0</td>\n",
       "                        <td id=\"T_ce7883d8_973c_11eb_af32_9801a78f88c3row0_col8\" class=\"data row0 col8\" >91.3</td>\n",
       "            </tr>\n",
       "            <tr>\n",
       "                        <th id=\"T_ce7883d8_973c_11eb_af32_9801a78f88c3level0_row1\" class=\"row_heading level0 row1\" >Thomas High School</th>\n",
       "                        <td id=\"T_ce7883d8_973c_11eb_af32_9801a78f88c3row1_col0\" class=\"data row1 col0\" >Charter</td>\n",
       "                        <td id=\"T_ce7883d8_973c_11eb_af32_9801a78f88c3row1_col1\" class=\"data row1 col1\" >1635</td>\n",
       "                        <td id=\"T_ce7883d8_973c_11eb_af32_9801a78f88c3row1_col2\" class=\"data row1 col2\" >$1,043,130.00</td>\n",
       "                        <td id=\"T_ce7883d8_973c_11eb_af32_9801a78f88c3row1_col3\" class=\"data row1 col3\" >$638.00</td>\n",
       "                        <td id=\"T_ce7883d8_973c_11eb_af32_9801a78f88c3row1_col4\" class=\"data row1 col4\" >83.418349</td>\n",
       "                        <td id=\"T_ce7883d8_973c_11eb_af32_9801a78f88c3row1_col5\" class=\"data row1 col5\" >83.848930</td>\n",
       "                        <td id=\"T_ce7883d8_973c_11eb_af32_9801a78f88c3row1_col6\" class=\"data row1 col6\" >93.3</td>\n",
       "                        <td id=\"T_ce7883d8_973c_11eb_af32_9801a78f88c3row1_col7\" class=\"data row1 col7\" >97.3</td>\n",
       "                        <td id=\"T_ce7883d8_973c_11eb_af32_9801a78f88c3row1_col8\" class=\"data row1 col8\" >90.9</td>\n",
       "            </tr>\n",
       "            <tr>\n",
       "                        <th id=\"T_ce7883d8_973c_11eb_af32_9801a78f88c3level0_row2\" class=\"row_heading level0 row2\" >Griffin High School</th>\n",
       "                        <td id=\"T_ce7883d8_973c_11eb_af32_9801a78f88c3row2_col0\" class=\"data row2 col0\" >Charter</td>\n",
       "                        <td id=\"T_ce7883d8_973c_11eb_af32_9801a78f88c3row2_col1\" class=\"data row2 col1\" >1468</td>\n",
       "                        <td id=\"T_ce7883d8_973c_11eb_af32_9801a78f88c3row2_col2\" class=\"data row2 col2\" >$917,500.00</td>\n",
       "                        <td id=\"T_ce7883d8_973c_11eb_af32_9801a78f88c3row2_col3\" class=\"data row2 col3\" >$625.00</td>\n",
       "                        <td id=\"T_ce7883d8_973c_11eb_af32_9801a78f88c3row2_col4\" class=\"data row2 col4\" >83.351499</td>\n",
       "                        <td id=\"T_ce7883d8_973c_11eb_af32_9801a78f88c3row2_col5\" class=\"data row2 col5\" >83.816757</td>\n",
       "                        <td id=\"T_ce7883d8_973c_11eb_af32_9801a78f88c3row2_col6\" class=\"data row2 col6\" >93.4</td>\n",
       "                        <td id=\"T_ce7883d8_973c_11eb_af32_9801a78f88c3row2_col7\" class=\"data row2 col7\" >97.1</td>\n",
       "                        <td id=\"T_ce7883d8_973c_11eb_af32_9801a78f88c3row2_col8\" class=\"data row2 col8\" >90.6</td>\n",
       "            </tr>\n",
       "            <tr>\n",
       "                        <th id=\"T_ce7883d8_973c_11eb_af32_9801a78f88c3level0_row3\" class=\"row_heading level0 row3\" >Wilson High School</th>\n",
       "                        <td id=\"T_ce7883d8_973c_11eb_af32_9801a78f88c3row3_col0\" class=\"data row3 col0\" >Charter</td>\n",
       "                        <td id=\"T_ce7883d8_973c_11eb_af32_9801a78f88c3row3_col1\" class=\"data row3 col1\" >2283</td>\n",
       "                        <td id=\"T_ce7883d8_973c_11eb_af32_9801a78f88c3row3_col2\" class=\"data row3 col2\" >$1,319,574.00</td>\n",
       "                        <td id=\"T_ce7883d8_973c_11eb_af32_9801a78f88c3row3_col3\" class=\"data row3 col3\" >$578.00</td>\n",
       "                        <td id=\"T_ce7883d8_973c_11eb_af32_9801a78f88c3row3_col4\" class=\"data row3 col4\" >83.274201</td>\n",
       "                        <td id=\"T_ce7883d8_973c_11eb_af32_9801a78f88c3row3_col5\" class=\"data row3 col5\" >83.989488</td>\n",
       "                        <td id=\"T_ce7883d8_973c_11eb_af32_9801a78f88c3row3_col6\" class=\"data row3 col6\" >93.9</td>\n",
       "                        <td id=\"T_ce7883d8_973c_11eb_af32_9801a78f88c3row3_col7\" class=\"data row3 col7\" >96.5</td>\n",
       "                        <td id=\"T_ce7883d8_973c_11eb_af32_9801a78f88c3row3_col8\" class=\"data row3 col8\" >90.6</td>\n",
       "            </tr>\n",
       "            <tr>\n",
       "                        <th id=\"T_ce7883d8_973c_11eb_af32_9801a78f88c3level0_row4\" class=\"row_heading level0 row4\" >Pena High School</th>\n",
       "                        <td id=\"T_ce7883d8_973c_11eb_af32_9801a78f88c3row4_col0\" class=\"data row4 col0\" >Charter</td>\n",
       "                        <td id=\"T_ce7883d8_973c_11eb_af32_9801a78f88c3row4_col1\" class=\"data row4 col1\" >962</td>\n",
       "                        <td id=\"T_ce7883d8_973c_11eb_af32_9801a78f88c3row4_col2\" class=\"data row4 col2\" >$585,858.00</td>\n",
       "                        <td id=\"T_ce7883d8_973c_11eb_af32_9801a78f88c3row4_col3\" class=\"data row4 col3\" >$609.00</td>\n",
       "                        <td id=\"T_ce7883d8_973c_11eb_af32_9801a78f88c3row4_col4\" class=\"data row4 col4\" >83.839917</td>\n",
       "                        <td id=\"T_ce7883d8_973c_11eb_af32_9801a78f88c3row4_col5\" class=\"data row4 col5\" >84.044699</td>\n",
       "                        <td id=\"T_ce7883d8_973c_11eb_af32_9801a78f88c3row4_col6\" class=\"data row4 col6\" >94.6</td>\n",
       "                        <td id=\"T_ce7883d8_973c_11eb_af32_9801a78f88c3row4_col7\" class=\"data row4 col7\" >95.9</td>\n",
       "                        <td id=\"T_ce7883d8_973c_11eb_af32_9801a78f88c3row4_col8\" class=\"data row4 col8\" >90.5</td>\n",
       "            </tr>\n",
       "    </tbody></table>"
      ],
      "text/plain": [
       "<pandas.io.formats.style.Styler at 0x7f8eecec3ca0>"
      ]
     },
     "execution_count": 14,
     "metadata": {},
     "output_type": "execute_result"
    }
   ],
   "source": [
    "# Sort and display the top five schools by passing rate \n",
    "top_perform = school_summary.sort_values(\"% Overall Passing\", ascending = False)\n",
    "top_perform.head().style.format({'Total Students': '{:}',\n",
    "                           \"Total School Budget\": \"${:,.2f}\", \n",
    "                           \"Per Student Budget\": \"${:.2f}\", \n",
    "                           \"% Passing Math\": \"{:.1f}\", \n",
    "                           \"% Passing Reading\": \"{:.1f}\", \n",
    "                           \"% Overall Passing\": \"{:.1f}\"})"
   ]
  },
  {
   "cell_type": "markdown",
   "metadata": {},
   "source": [
    "## Bottom Performing Schools (By % Overall Passing)"
   ]
  },
  {
   "cell_type": "markdown",
   "metadata": {},
   "source": [
    "* Sort and display the five worst-performing schools by % overall passing."
   ]
  },
  {
   "cell_type": "code",
   "execution_count": 15,
   "metadata": {},
   "outputs": [
    {
     "data": {
      "text/html": [
       "<style  type=\"text/css\" >\n",
       "</style><table id=\"T_ce7a24e0_973c_11eb_af32_9801a78f88c3\" ><thead>    <tr>        <th class=\"blank level0\" ></th>        <th class=\"col_heading level0 col0\" >School Type</th>        <th class=\"col_heading level0 col1\" >Total Students</th>        <th class=\"col_heading level0 col2\" >Total School Budget</th>        <th class=\"col_heading level0 col3\" >Per Student Budget</th>        <th class=\"col_heading level0 col4\" >Average Math Score</th>        <th class=\"col_heading level0 col5\" >Average Reading Score</th>        <th class=\"col_heading level0 col6\" >% Passing Math</th>        <th class=\"col_heading level0 col7\" >% Passing Reading</th>        <th class=\"col_heading level0 col8\" >% Overall Passing</th>    </tr></thead><tbody>\n",
       "                <tr>\n",
       "                        <th id=\"T_ce7a24e0_973c_11eb_af32_9801a78f88c3level0_row0\" class=\"row_heading level0 row0\" >Rodriguez High School</th>\n",
       "                        <td id=\"T_ce7a24e0_973c_11eb_af32_9801a78f88c3row0_col0\" class=\"data row0 col0\" >District</td>\n",
       "                        <td id=\"T_ce7a24e0_973c_11eb_af32_9801a78f88c3row0_col1\" class=\"data row0 col1\" > 3999</td>\n",
       "                        <td id=\"T_ce7a24e0_973c_11eb_af32_9801a78f88c3row0_col2\" class=\"data row0 col2\" >$2,547,363.00</td>\n",
       "                        <td id=\"T_ce7a24e0_973c_11eb_af32_9801a78f88c3row0_col3\" class=\"data row0 col3\" >$637.00</td>\n",
       "                        <td id=\"T_ce7a24e0_973c_11eb_af32_9801a78f88c3row0_col4\" class=\"data row0 col4\" >76.842711</td>\n",
       "                        <td id=\"T_ce7a24e0_973c_11eb_af32_9801a78f88c3row0_col5\" class=\"data row0 col5\" >80.744686</td>\n",
       "                        <td id=\"T_ce7a24e0_973c_11eb_af32_9801a78f88c3row0_col6\" class=\"data row0 col6\" >66.4</td>\n",
       "                        <td id=\"T_ce7a24e0_973c_11eb_af32_9801a78f88c3row0_col7\" class=\"data row0 col7\" >80.2</td>\n",
       "                        <td id=\"T_ce7a24e0_973c_11eb_af32_9801a78f88c3row0_col8\" class=\"data row0 col8\" >53.0</td>\n",
       "            </tr>\n",
       "            <tr>\n",
       "                        <th id=\"T_ce7a24e0_973c_11eb_af32_9801a78f88c3level0_row1\" class=\"row_heading level0 row1\" >Figueroa High School</th>\n",
       "                        <td id=\"T_ce7a24e0_973c_11eb_af32_9801a78f88c3row1_col0\" class=\"data row1 col0\" >District</td>\n",
       "                        <td id=\"T_ce7a24e0_973c_11eb_af32_9801a78f88c3row1_col1\" class=\"data row1 col1\" > 2949</td>\n",
       "                        <td id=\"T_ce7a24e0_973c_11eb_af32_9801a78f88c3row1_col2\" class=\"data row1 col2\" >$1,884,411.00</td>\n",
       "                        <td id=\"T_ce7a24e0_973c_11eb_af32_9801a78f88c3row1_col3\" class=\"data row1 col3\" >$639.00</td>\n",
       "                        <td id=\"T_ce7a24e0_973c_11eb_af32_9801a78f88c3row1_col4\" class=\"data row1 col4\" >76.711767</td>\n",
       "                        <td id=\"T_ce7a24e0_973c_11eb_af32_9801a78f88c3row1_col5\" class=\"data row1 col5\" >81.158020</td>\n",
       "                        <td id=\"T_ce7a24e0_973c_11eb_af32_9801a78f88c3row1_col6\" class=\"data row1 col6\" >66.0</td>\n",
       "                        <td id=\"T_ce7a24e0_973c_11eb_af32_9801a78f88c3row1_col7\" class=\"data row1 col7\" >80.7</td>\n",
       "                        <td id=\"T_ce7a24e0_973c_11eb_af32_9801a78f88c3row1_col8\" class=\"data row1 col8\" >53.2</td>\n",
       "            </tr>\n",
       "            <tr>\n",
       "                        <th id=\"T_ce7a24e0_973c_11eb_af32_9801a78f88c3level0_row2\" class=\"row_heading level0 row2\" >Huang High School</th>\n",
       "                        <td id=\"T_ce7a24e0_973c_11eb_af32_9801a78f88c3row2_col0\" class=\"data row2 col0\" >District</td>\n",
       "                        <td id=\"T_ce7a24e0_973c_11eb_af32_9801a78f88c3row2_col1\" class=\"data row2 col1\" > 2917</td>\n",
       "                        <td id=\"T_ce7a24e0_973c_11eb_af32_9801a78f88c3row2_col2\" class=\"data row2 col2\" >$1,910,635.00</td>\n",
       "                        <td id=\"T_ce7a24e0_973c_11eb_af32_9801a78f88c3row2_col3\" class=\"data row2 col3\" >$655.00</td>\n",
       "                        <td id=\"T_ce7a24e0_973c_11eb_af32_9801a78f88c3row2_col4\" class=\"data row2 col4\" >76.629414</td>\n",
       "                        <td id=\"T_ce7a24e0_973c_11eb_af32_9801a78f88c3row2_col5\" class=\"data row2 col5\" >81.182722</td>\n",
       "                        <td id=\"T_ce7a24e0_973c_11eb_af32_9801a78f88c3row2_col6\" class=\"data row2 col6\" >65.7</td>\n",
       "                        <td id=\"T_ce7a24e0_973c_11eb_af32_9801a78f88c3row2_col7\" class=\"data row2 col7\" >81.3</td>\n",
       "                        <td id=\"T_ce7a24e0_973c_11eb_af32_9801a78f88c3row2_col8\" class=\"data row2 col8\" >53.5</td>\n",
       "            </tr>\n",
       "            <tr>\n",
       "                        <th id=\"T_ce7a24e0_973c_11eb_af32_9801a78f88c3level0_row3\" class=\"row_heading level0 row3\" >Hernandez High School</th>\n",
       "                        <td id=\"T_ce7a24e0_973c_11eb_af32_9801a78f88c3row3_col0\" class=\"data row3 col0\" >District</td>\n",
       "                        <td id=\"T_ce7a24e0_973c_11eb_af32_9801a78f88c3row3_col1\" class=\"data row3 col1\" > 4635</td>\n",
       "                        <td id=\"T_ce7a24e0_973c_11eb_af32_9801a78f88c3row3_col2\" class=\"data row3 col2\" >$3,022,020.00</td>\n",
       "                        <td id=\"T_ce7a24e0_973c_11eb_af32_9801a78f88c3row3_col3\" class=\"data row3 col3\" >$652.00</td>\n",
       "                        <td id=\"T_ce7a24e0_973c_11eb_af32_9801a78f88c3row3_col4\" class=\"data row3 col4\" >77.289752</td>\n",
       "                        <td id=\"T_ce7a24e0_973c_11eb_af32_9801a78f88c3row3_col5\" class=\"data row3 col5\" >80.934412</td>\n",
       "                        <td id=\"T_ce7a24e0_973c_11eb_af32_9801a78f88c3row3_col6\" class=\"data row3 col6\" >66.8</td>\n",
       "                        <td id=\"T_ce7a24e0_973c_11eb_af32_9801a78f88c3row3_col7\" class=\"data row3 col7\" >80.9</td>\n",
       "                        <td id=\"T_ce7a24e0_973c_11eb_af32_9801a78f88c3row3_col8\" class=\"data row3 col8\" >53.5</td>\n",
       "            </tr>\n",
       "            <tr>\n",
       "                        <th id=\"T_ce7a24e0_973c_11eb_af32_9801a78f88c3level0_row4\" class=\"row_heading level0 row4\" >Johnson High School</th>\n",
       "                        <td id=\"T_ce7a24e0_973c_11eb_af32_9801a78f88c3row4_col0\" class=\"data row4 col0\" >District</td>\n",
       "                        <td id=\"T_ce7a24e0_973c_11eb_af32_9801a78f88c3row4_col1\" class=\"data row4 col1\" > 4761</td>\n",
       "                        <td id=\"T_ce7a24e0_973c_11eb_af32_9801a78f88c3row4_col2\" class=\"data row4 col2\" >$3,094,650.00</td>\n",
       "                        <td id=\"T_ce7a24e0_973c_11eb_af32_9801a78f88c3row4_col3\" class=\"data row4 col3\" >$650.00</td>\n",
       "                        <td id=\"T_ce7a24e0_973c_11eb_af32_9801a78f88c3row4_col4\" class=\"data row4 col4\" >77.072464</td>\n",
       "                        <td id=\"T_ce7a24e0_973c_11eb_af32_9801a78f88c3row4_col5\" class=\"data row4 col5\" >80.966394</td>\n",
       "                        <td id=\"T_ce7a24e0_973c_11eb_af32_9801a78f88c3row4_col6\" class=\"data row4 col6\" >66.1</td>\n",
       "                        <td id=\"T_ce7a24e0_973c_11eb_af32_9801a78f88c3row4_col7\" class=\"data row4 col7\" >81.2</td>\n",
       "                        <td id=\"T_ce7a24e0_973c_11eb_af32_9801a78f88c3row4_col8\" class=\"data row4 col8\" >53.5</td>\n",
       "            </tr>\n",
       "    </tbody></table>"
      ],
      "text/plain": [
       "<pandas.io.formats.style.Styler at 0x7f8eecec3ac0>"
      ]
     },
     "execution_count": 15,
     "metadata": {},
     "output_type": "execute_result"
    }
   ],
   "source": [
    "# Sort and display the bottom five schools by passing rate \n",
    "bottom_perform = top_perform.tail()\n",
    "bottom_perform = bottom_perform.sort_values('% Overall Passing')\n",
    "bottom_perform.style.format({'Total Students': '{: }', \n",
    "                       \"Total School Budget\": \"${:,.2f}\", \n",
    "                       \"Per Student Budget\": \"${:.2f}\", \n",
    "                       \"% Passing Math\": \"{:.1f}\", \n",
    "                       \"% Passing Reading\": \"{:.1f}\", \n",
    "                       \"% Overall Passing\": \"{:.1f}\"})"
   ]
  },
  {
   "cell_type": "markdown",
   "metadata": {
    "collapsed": true
   },
   "source": [
    "## Math Scores by Grade"
   ]
  },
  {
   "cell_type": "markdown",
   "metadata": {},
   "source": [
    "* Create a table that lists the average Reading Score for students of each grade level (9th, 10th, 11th, 12th) at each school.\n",
    "\n",
    "  * Create a pandas series for each grade. Hint: use a conditional statement.\n",
    "  \n",
    "  * Group each series by school\n",
    "  \n",
    "  * Combine the series into a dataframe\n",
    "  \n",
    "  * Optional: give the displayed data cleaner formatting"
   ]
  },
  {
   "cell_type": "code",
   "execution_count": 16,
   "metadata": {},
   "outputs": [
    {
     "data": {
      "text/html": [
       "<style  type=\"text/css\" >\n",
       "</style><table id=\"T_ce8076a6_973c_11eb_af32_9801a78f88c3\" ><thead>    <tr>        <th class=\"blank level0\" ></th>        <th class=\"col_heading level0 col0\" >9th</th>        <th class=\"col_heading level0 col1\" >10th</th>        <th class=\"col_heading level0 col2\" >11th</th>        <th class=\"col_heading level0 col3\" >12th</th>    </tr>    <tr>        <th class=\"index_name level0\" >School Name</th>        <th class=\"blank\" ></th>        <th class=\"blank\" ></th>        <th class=\"blank\" ></th>        <th class=\"blank\" ></th>    </tr></thead><tbody>\n",
       "                <tr>\n",
       "                        <th id=\"T_ce8076a6_973c_11eb_af32_9801a78f88c3level0_row0\" class=\"row_heading level0 row0\" >Bailey High School</th>\n",
       "                        <td id=\"T_ce8076a6_973c_11eb_af32_9801a78f88c3row0_col0\" class=\"data row0 col0\" >77.08</td>\n",
       "                        <td id=\"T_ce8076a6_973c_11eb_af32_9801a78f88c3row0_col1\" class=\"data row0 col1\" >77.00</td>\n",
       "                        <td id=\"T_ce8076a6_973c_11eb_af32_9801a78f88c3row0_col2\" class=\"data row0 col2\" >77.52</td>\n",
       "                        <td id=\"T_ce8076a6_973c_11eb_af32_9801a78f88c3row0_col3\" class=\"data row0 col3\" >76.49</td>\n",
       "            </tr>\n",
       "            <tr>\n",
       "                        <th id=\"T_ce8076a6_973c_11eb_af32_9801a78f88c3level0_row1\" class=\"row_heading level0 row1\" >Cabrera High School</th>\n",
       "                        <td id=\"T_ce8076a6_973c_11eb_af32_9801a78f88c3row1_col0\" class=\"data row1 col0\" >83.09</td>\n",
       "                        <td id=\"T_ce8076a6_973c_11eb_af32_9801a78f88c3row1_col1\" class=\"data row1 col1\" >83.15</td>\n",
       "                        <td id=\"T_ce8076a6_973c_11eb_af32_9801a78f88c3row1_col2\" class=\"data row1 col2\" >82.77</td>\n",
       "                        <td id=\"T_ce8076a6_973c_11eb_af32_9801a78f88c3row1_col3\" class=\"data row1 col3\" >83.28</td>\n",
       "            </tr>\n",
       "            <tr>\n",
       "                        <th id=\"T_ce8076a6_973c_11eb_af32_9801a78f88c3level0_row2\" class=\"row_heading level0 row2\" >Figueroa High School</th>\n",
       "                        <td id=\"T_ce8076a6_973c_11eb_af32_9801a78f88c3row2_col0\" class=\"data row2 col0\" >76.40</td>\n",
       "                        <td id=\"T_ce8076a6_973c_11eb_af32_9801a78f88c3row2_col1\" class=\"data row2 col1\" >76.54</td>\n",
       "                        <td id=\"T_ce8076a6_973c_11eb_af32_9801a78f88c3row2_col2\" class=\"data row2 col2\" >76.88</td>\n",
       "                        <td id=\"T_ce8076a6_973c_11eb_af32_9801a78f88c3row2_col3\" class=\"data row2 col3\" >77.15</td>\n",
       "            </tr>\n",
       "            <tr>\n",
       "                        <th id=\"T_ce8076a6_973c_11eb_af32_9801a78f88c3level0_row3\" class=\"row_heading level0 row3\" >Ford High School</th>\n",
       "                        <td id=\"T_ce8076a6_973c_11eb_af32_9801a78f88c3row3_col0\" class=\"data row3 col0\" >77.36</td>\n",
       "                        <td id=\"T_ce8076a6_973c_11eb_af32_9801a78f88c3row3_col1\" class=\"data row3 col1\" >77.67</td>\n",
       "                        <td id=\"T_ce8076a6_973c_11eb_af32_9801a78f88c3row3_col2\" class=\"data row3 col2\" >76.92</td>\n",
       "                        <td id=\"T_ce8076a6_973c_11eb_af32_9801a78f88c3row3_col3\" class=\"data row3 col3\" >76.18</td>\n",
       "            </tr>\n",
       "            <tr>\n",
       "                        <th id=\"T_ce8076a6_973c_11eb_af32_9801a78f88c3level0_row4\" class=\"row_heading level0 row4\" >Griffin High School</th>\n",
       "                        <td id=\"T_ce8076a6_973c_11eb_af32_9801a78f88c3row4_col0\" class=\"data row4 col0\" >82.04</td>\n",
       "                        <td id=\"T_ce8076a6_973c_11eb_af32_9801a78f88c3row4_col1\" class=\"data row4 col1\" >84.23</td>\n",
       "                        <td id=\"T_ce8076a6_973c_11eb_af32_9801a78f88c3row4_col2\" class=\"data row4 col2\" >83.84</td>\n",
       "                        <td id=\"T_ce8076a6_973c_11eb_af32_9801a78f88c3row4_col3\" class=\"data row4 col3\" >83.36</td>\n",
       "            </tr>\n",
       "            <tr>\n",
       "                        <th id=\"T_ce8076a6_973c_11eb_af32_9801a78f88c3level0_row5\" class=\"row_heading level0 row5\" >Hernandez High School</th>\n",
       "                        <td id=\"T_ce8076a6_973c_11eb_af32_9801a78f88c3row5_col0\" class=\"data row5 col0\" >77.44</td>\n",
       "                        <td id=\"T_ce8076a6_973c_11eb_af32_9801a78f88c3row5_col1\" class=\"data row5 col1\" >77.34</td>\n",
       "                        <td id=\"T_ce8076a6_973c_11eb_af32_9801a78f88c3row5_col2\" class=\"data row5 col2\" >77.14</td>\n",
       "                        <td id=\"T_ce8076a6_973c_11eb_af32_9801a78f88c3row5_col3\" class=\"data row5 col3\" >77.19</td>\n",
       "            </tr>\n",
       "            <tr>\n",
       "                        <th id=\"T_ce8076a6_973c_11eb_af32_9801a78f88c3level0_row6\" class=\"row_heading level0 row6\" >Holden High School</th>\n",
       "                        <td id=\"T_ce8076a6_973c_11eb_af32_9801a78f88c3row6_col0\" class=\"data row6 col0\" >83.79</td>\n",
       "                        <td id=\"T_ce8076a6_973c_11eb_af32_9801a78f88c3row6_col1\" class=\"data row6 col1\" >83.43</td>\n",
       "                        <td id=\"T_ce8076a6_973c_11eb_af32_9801a78f88c3row6_col2\" class=\"data row6 col2\" >85.00</td>\n",
       "                        <td id=\"T_ce8076a6_973c_11eb_af32_9801a78f88c3row6_col3\" class=\"data row6 col3\" >82.86</td>\n",
       "            </tr>\n",
       "            <tr>\n",
       "                        <th id=\"T_ce8076a6_973c_11eb_af32_9801a78f88c3level0_row7\" class=\"row_heading level0 row7\" >Huang High School</th>\n",
       "                        <td id=\"T_ce8076a6_973c_11eb_af32_9801a78f88c3row7_col0\" class=\"data row7 col0\" >77.03</td>\n",
       "                        <td id=\"T_ce8076a6_973c_11eb_af32_9801a78f88c3row7_col1\" class=\"data row7 col1\" >75.91</td>\n",
       "                        <td id=\"T_ce8076a6_973c_11eb_af32_9801a78f88c3row7_col2\" class=\"data row7 col2\" >76.45</td>\n",
       "                        <td id=\"T_ce8076a6_973c_11eb_af32_9801a78f88c3row7_col3\" class=\"data row7 col3\" >77.23</td>\n",
       "            </tr>\n",
       "            <tr>\n",
       "                        <th id=\"T_ce8076a6_973c_11eb_af32_9801a78f88c3level0_row8\" class=\"row_heading level0 row8\" >Johnson High School</th>\n",
       "                        <td id=\"T_ce8076a6_973c_11eb_af32_9801a78f88c3row8_col0\" class=\"data row8 col0\" >77.19</td>\n",
       "                        <td id=\"T_ce8076a6_973c_11eb_af32_9801a78f88c3row8_col1\" class=\"data row8 col1\" >76.69</td>\n",
       "                        <td id=\"T_ce8076a6_973c_11eb_af32_9801a78f88c3row8_col2\" class=\"data row8 col2\" >77.49</td>\n",
       "                        <td id=\"T_ce8076a6_973c_11eb_af32_9801a78f88c3row8_col3\" class=\"data row8 col3\" >76.86</td>\n",
       "            </tr>\n",
       "            <tr>\n",
       "                        <th id=\"T_ce8076a6_973c_11eb_af32_9801a78f88c3level0_row9\" class=\"row_heading level0 row9\" >Pena High School</th>\n",
       "                        <td id=\"T_ce8076a6_973c_11eb_af32_9801a78f88c3row9_col0\" class=\"data row9 col0\" >83.63</td>\n",
       "                        <td id=\"T_ce8076a6_973c_11eb_af32_9801a78f88c3row9_col1\" class=\"data row9 col1\" >83.37</td>\n",
       "                        <td id=\"T_ce8076a6_973c_11eb_af32_9801a78f88c3row9_col2\" class=\"data row9 col2\" >84.33</td>\n",
       "                        <td id=\"T_ce8076a6_973c_11eb_af32_9801a78f88c3row9_col3\" class=\"data row9 col3\" >84.12</td>\n",
       "            </tr>\n",
       "            <tr>\n",
       "                        <th id=\"T_ce8076a6_973c_11eb_af32_9801a78f88c3level0_row10\" class=\"row_heading level0 row10\" >Rodriguez High School</th>\n",
       "                        <td id=\"T_ce8076a6_973c_11eb_af32_9801a78f88c3row10_col0\" class=\"data row10 col0\" >76.86</td>\n",
       "                        <td id=\"T_ce8076a6_973c_11eb_af32_9801a78f88c3row10_col1\" class=\"data row10 col1\" >76.61</td>\n",
       "                        <td id=\"T_ce8076a6_973c_11eb_af32_9801a78f88c3row10_col2\" class=\"data row10 col2\" >76.40</td>\n",
       "                        <td id=\"T_ce8076a6_973c_11eb_af32_9801a78f88c3row10_col3\" class=\"data row10 col3\" >77.69</td>\n",
       "            </tr>\n",
       "            <tr>\n",
       "                        <th id=\"T_ce8076a6_973c_11eb_af32_9801a78f88c3level0_row11\" class=\"row_heading level0 row11\" >Shelton High School</th>\n",
       "                        <td id=\"T_ce8076a6_973c_11eb_af32_9801a78f88c3row11_col0\" class=\"data row11 col0\" >83.42</td>\n",
       "                        <td id=\"T_ce8076a6_973c_11eb_af32_9801a78f88c3row11_col1\" class=\"data row11 col1\" >82.92</td>\n",
       "                        <td id=\"T_ce8076a6_973c_11eb_af32_9801a78f88c3row11_col2\" class=\"data row11 col2\" >83.38</td>\n",
       "                        <td id=\"T_ce8076a6_973c_11eb_af32_9801a78f88c3row11_col3\" class=\"data row11 col3\" >83.78</td>\n",
       "            </tr>\n",
       "            <tr>\n",
       "                        <th id=\"T_ce8076a6_973c_11eb_af32_9801a78f88c3level0_row12\" class=\"row_heading level0 row12\" >Thomas High School</th>\n",
       "                        <td id=\"T_ce8076a6_973c_11eb_af32_9801a78f88c3row12_col0\" class=\"data row12 col0\" >83.59</td>\n",
       "                        <td id=\"T_ce8076a6_973c_11eb_af32_9801a78f88c3row12_col1\" class=\"data row12 col1\" >83.09</td>\n",
       "                        <td id=\"T_ce8076a6_973c_11eb_af32_9801a78f88c3row12_col2\" class=\"data row12 col2\" >83.50</td>\n",
       "                        <td id=\"T_ce8076a6_973c_11eb_af32_9801a78f88c3row12_col3\" class=\"data row12 col3\" >83.50</td>\n",
       "            </tr>\n",
       "            <tr>\n",
       "                        <th id=\"T_ce8076a6_973c_11eb_af32_9801a78f88c3level0_row13\" class=\"row_heading level0 row13\" >Wilson High School</th>\n",
       "                        <td id=\"T_ce8076a6_973c_11eb_af32_9801a78f88c3row13_col0\" class=\"data row13 col0\" >83.09</td>\n",
       "                        <td id=\"T_ce8076a6_973c_11eb_af32_9801a78f88c3row13_col1\" class=\"data row13 col1\" >83.72</td>\n",
       "                        <td id=\"T_ce8076a6_973c_11eb_af32_9801a78f88c3row13_col2\" class=\"data row13 col2\" >83.20</td>\n",
       "                        <td id=\"T_ce8076a6_973c_11eb_af32_9801a78f88c3row13_col3\" class=\"data row13 col3\" >83.04</td>\n",
       "            </tr>\n",
       "            <tr>\n",
       "                        <th id=\"T_ce8076a6_973c_11eb_af32_9801a78f88c3level0_row14\" class=\"row_heading level0 row14\" >Wright High School</th>\n",
       "                        <td id=\"T_ce8076a6_973c_11eb_af32_9801a78f88c3row14_col0\" class=\"data row14 col0\" >83.26</td>\n",
       "                        <td id=\"T_ce8076a6_973c_11eb_af32_9801a78f88c3row14_col1\" class=\"data row14 col1\" >84.01</td>\n",
       "                        <td id=\"T_ce8076a6_973c_11eb_af32_9801a78f88c3row14_col2\" class=\"data row14 col2\" >83.84</td>\n",
       "                        <td id=\"T_ce8076a6_973c_11eb_af32_9801a78f88c3row14_col3\" class=\"data row14 col3\" >83.64</td>\n",
       "            </tr>\n",
       "    </tbody></table>"
      ],
      "text/plain": [
       "<pandas.io.formats.style.Styler at 0x7f8eecec3610>"
      ]
     },
     "execution_count": 16,
     "metadata": {},
     "output_type": "execute_result"
    }
   ],
   "source": [
    "#creates grade level average math scores for each school \n",
    "ninth_math = student_data.loc[student_data['grade'] == '9th'].groupby('school_name')[\"math_score\"].mean()\n",
    "tenth_math = student_data.loc[student_data['grade'] == '10th'].groupby('school_name')[\"math_score\"].mean()\n",
    "eleventh_math = student_data.loc[student_data['grade'] == '11th'].groupby('school_name')[\"math_score\"].mean()\n",
    "twelfth_math = student_data.loc[student_data['grade'] == '12th'].groupby('school_name')[\"math_score\"].mean()\n",
    "\n",
    "math_scores = pd.DataFrame({\n",
    "        \"9th\": ninth_math,\n",
    "        \"10th\": tenth_math,\n",
    "        \"11th\": eleventh_math,\n",
    "        \"12th\": twelfth_math\n",
    "})\n",
    "math_scores = math_scores[['9th', '10th', '11th', '12th']]\n",
    "math_scores.index.name = \"School Name\"\n",
    "\n",
    "#show and format\n",
    "math_scores.style.format({'9th': '{:.2f}', \n",
    "                          \"10th\": '{:.2f}', \n",
    "                          \"11th\": \"{:.2f}\", \n",
    "                          \"12th\": \"{:.2f}\"})"
   ]
  },
  {
   "cell_type": "markdown",
   "metadata": {},
   "source": [
    "## Reading Score by Grade "
   ]
  },
  {
   "cell_type": "markdown",
   "metadata": {},
   "source": [
    "* Perform the same operations as above for reading scores"
   ]
  },
  {
   "cell_type": "code",
   "execution_count": 17,
   "metadata": {},
   "outputs": [
    {
     "data": {
      "text/html": [
       "<style  type=\"text/css\" >\n",
       "</style><table id=\"T_ce869928_973c_11eb_af32_9801a78f88c3\" ><thead>    <tr>        <th class=\"blank level0\" ></th>        <th class=\"col_heading level0 col0\" >9th</th>        <th class=\"col_heading level0 col1\" >10th</th>        <th class=\"col_heading level0 col2\" >11th</th>        <th class=\"col_heading level0 col3\" >12th</th>    </tr>    <tr>        <th class=\"index_name level0\" >School Name</th>        <th class=\"blank\" ></th>        <th class=\"blank\" ></th>        <th class=\"blank\" ></th>        <th class=\"blank\" ></th>    </tr></thead><tbody>\n",
       "                <tr>\n",
       "                        <th id=\"T_ce869928_973c_11eb_af32_9801a78f88c3level0_row0\" class=\"row_heading level0 row0\" >Bailey High School</th>\n",
       "                        <td id=\"T_ce869928_973c_11eb_af32_9801a78f88c3row0_col0\" class=\"data row0 col0\" >81.3</td>\n",
       "                        <td id=\"T_ce869928_973c_11eb_af32_9801a78f88c3row0_col1\" class=\"data row0 col1\" >80.9</td>\n",
       "                        <td id=\"T_ce869928_973c_11eb_af32_9801a78f88c3row0_col2\" class=\"data row0 col2\" >80.9</td>\n",
       "                        <td id=\"T_ce869928_973c_11eb_af32_9801a78f88c3row0_col3\" class=\"data row0 col3\" >80.9</td>\n",
       "            </tr>\n",
       "            <tr>\n",
       "                        <th id=\"T_ce869928_973c_11eb_af32_9801a78f88c3level0_row1\" class=\"row_heading level0 row1\" >Cabrera High School</th>\n",
       "                        <td id=\"T_ce869928_973c_11eb_af32_9801a78f88c3row1_col0\" class=\"data row1 col0\" >83.7</td>\n",
       "                        <td id=\"T_ce869928_973c_11eb_af32_9801a78f88c3row1_col1\" class=\"data row1 col1\" >84.3</td>\n",
       "                        <td id=\"T_ce869928_973c_11eb_af32_9801a78f88c3row1_col2\" class=\"data row1 col2\" >83.8</td>\n",
       "                        <td id=\"T_ce869928_973c_11eb_af32_9801a78f88c3row1_col3\" class=\"data row1 col3\" >84.3</td>\n",
       "            </tr>\n",
       "            <tr>\n",
       "                        <th id=\"T_ce869928_973c_11eb_af32_9801a78f88c3level0_row2\" class=\"row_heading level0 row2\" >Figueroa High School</th>\n",
       "                        <td id=\"T_ce869928_973c_11eb_af32_9801a78f88c3row2_col0\" class=\"data row2 col0\" >81.2</td>\n",
       "                        <td id=\"T_ce869928_973c_11eb_af32_9801a78f88c3row2_col1\" class=\"data row2 col1\" >81.4</td>\n",
       "                        <td id=\"T_ce869928_973c_11eb_af32_9801a78f88c3row2_col2\" class=\"data row2 col2\" >80.6</td>\n",
       "                        <td id=\"T_ce869928_973c_11eb_af32_9801a78f88c3row2_col3\" class=\"data row2 col3\" >81.4</td>\n",
       "            </tr>\n",
       "            <tr>\n",
       "                        <th id=\"T_ce869928_973c_11eb_af32_9801a78f88c3level0_row3\" class=\"row_heading level0 row3\" >Ford High School</th>\n",
       "                        <td id=\"T_ce869928_973c_11eb_af32_9801a78f88c3row3_col0\" class=\"data row3 col0\" >80.6</td>\n",
       "                        <td id=\"T_ce869928_973c_11eb_af32_9801a78f88c3row3_col1\" class=\"data row3 col1\" >81.3</td>\n",
       "                        <td id=\"T_ce869928_973c_11eb_af32_9801a78f88c3row3_col2\" class=\"data row3 col2\" >80.4</td>\n",
       "                        <td id=\"T_ce869928_973c_11eb_af32_9801a78f88c3row3_col3\" class=\"data row3 col3\" >80.7</td>\n",
       "            </tr>\n",
       "            <tr>\n",
       "                        <th id=\"T_ce869928_973c_11eb_af32_9801a78f88c3level0_row4\" class=\"row_heading level0 row4\" >Griffin High School</th>\n",
       "                        <td id=\"T_ce869928_973c_11eb_af32_9801a78f88c3row4_col0\" class=\"data row4 col0\" >83.4</td>\n",
       "                        <td id=\"T_ce869928_973c_11eb_af32_9801a78f88c3row4_col1\" class=\"data row4 col1\" >83.7</td>\n",
       "                        <td id=\"T_ce869928_973c_11eb_af32_9801a78f88c3row4_col2\" class=\"data row4 col2\" >84.3</td>\n",
       "                        <td id=\"T_ce869928_973c_11eb_af32_9801a78f88c3row4_col3\" class=\"data row4 col3\" >84.0</td>\n",
       "            </tr>\n",
       "            <tr>\n",
       "                        <th id=\"T_ce869928_973c_11eb_af32_9801a78f88c3level0_row5\" class=\"row_heading level0 row5\" >Hernandez High School</th>\n",
       "                        <td id=\"T_ce869928_973c_11eb_af32_9801a78f88c3row5_col0\" class=\"data row5 col0\" >80.9</td>\n",
       "                        <td id=\"T_ce869928_973c_11eb_af32_9801a78f88c3row5_col1\" class=\"data row5 col1\" >80.7</td>\n",
       "                        <td id=\"T_ce869928_973c_11eb_af32_9801a78f88c3row5_col2\" class=\"data row5 col2\" >81.4</td>\n",
       "                        <td id=\"T_ce869928_973c_11eb_af32_9801a78f88c3row5_col3\" class=\"data row5 col3\" >80.9</td>\n",
       "            </tr>\n",
       "            <tr>\n",
       "                        <th id=\"T_ce869928_973c_11eb_af32_9801a78f88c3level0_row6\" class=\"row_heading level0 row6\" >Holden High School</th>\n",
       "                        <td id=\"T_ce869928_973c_11eb_af32_9801a78f88c3row6_col0\" class=\"data row6 col0\" >83.7</td>\n",
       "                        <td id=\"T_ce869928_973c_11eb_af32_9801a78f88c3row6_col1\" class=\"data row6 col1\" >83.3</td>\n",
       "                        <td id=\"T_ce869928_973c_11eb_af32_9801a78f88c3row6_col2\" class=\"data row6 col2\" >83.8</td>\n",
       "                        <td id=\"T_ce869928_973c_11eb_af32_9801a78f88c3row6_col3\" class=\"data row6 col3\" >84.7</td>\n",
       "            </tr>\n",
       "            <tr>\n",
       "                        <th id=\"T_ce869928_973c_11eb_af32_9801a78f88c3level0_row7\" class=\"row_heading level0 row7\" >Huang High School</th>\n",
       "                        <td id=\"T_ce869928_973c_11eb_af32_9801a78f88c3row7_col0\" class=\"data row7 col0\" >81.3</td>\n",
       "                        <td id=\"T_ce869928_973c_11eb_af32_9801a78f88c3row7_col1\" class=\"data row7 col1\" >81.5</td>\n",
       "                        <td id=\"T_ce869928_973c_11eb_af32_9801a78f88c3row7_col2\" class=\"data row7 col2\" >81.4</td>\n",
       "                        <td id=\"T_ce869928_973c_11eb_af32_9801a78f88c3row7_col3\" class=\"data row7 col3\" >80.3</td>\n",
       "            </tr>\n",
       "            <tr>\n",
       "                        <th id=\"T_ce869928_973c_11eb_af32_9801a78f88c3level0_row8\" class=\"row_heading level0 row8\" >Johnson High School</th>\n",
       "                        <td id=\"T_ce869928_973c_11eb_af32_9801a78f88c3row8_col0\" class=\"data row8 col0\" >81.3</td>\n",
       "                        <td id=\"T_ce869928_973c_11eb_af32_9801a78f88c3row8_col1\" class=\"data row8 col1\" >80.8</td>\n",
       "                        <td id=\"T_ce869928_973c_11eb_af32_9801a78f88c3row8_col2\" class=\"data row8 col2\" >80.6</td>\n",
       "                        <td id=\"T_ce869928_973c_11eb_af32_9801a78f88c3row8_col3\" class=\"data row8 col3\" >81.2</td>\n",
       "            </tr>\n",
       "            <tr>\n",
       "                        <th id=\"T_ce869928_973c_11eb_af32_9801a78f88c3level0_row9\" class=\"row_heading level0 row9\" >Pena High School</th>\n",
       "                        <td id=\"T_ce869928_973c_11eb_af32_9801a78f88c3row9_col0\" class=\"data row9 col0\" >83.8</td>\n",
       "                        <td id=\"T_ce869928_973c_11eb_af32_9801a78f88c3row9_col1\" class=\"data row9 col1\" >83.6</td>\n",
       "                        <td id=\"T_ce869928_973c_11eb_af32_9801a78f88c3row9_col2\" class=\"data row9 col2\" >84.3</td>\n",
       "                        <td id=\"T_ce869928_973c_11eb_af32_9801a78f88c3row9_col3\" class=\"data row9 col3\" >84.6</td>\n",
       "            </tr>\n",
       "            <tr>\n",
       "                        <th id=\"T_ce869928_973c_11eb_af32_9801a78f88c3level0_row10\" class=\"row_heading level0 row10\" >Rodriguez High School</th>\n",
       "                        <td id=\"T_ce869928_973c_11eb_af32_9801a78f88c3row10_col0\" class=\"data row10 col0\" >81.0</td>\n",
       "                        <td id=\"T_ce869928_973c_11eb_af32_9801a78f88c3row10_col1\" class=\"data row10 col1\" >80.6</td>\n",
       "                        <td id=\"T_ce869928_973c_11eb_af32_9801a78f88c3row10_col2\" class=\"data row10 col2\" >80.9</td>\n",
       "                        <td id=\"T_ce869928_973c_11eb_af32_9801a78f88c3row10_col3\" class=\"data row10 col3\" >80.4</td>\n",
       "            </tr>\n",
       "            <tr>\n",
       "                        <th id=\"T_ce869928_973c_11eb_af32_9801a78f88c3level0_row11\" class=\"row_heading level0 row11\" >Shelton High School</th>\n",
       "                        <td id=\"T_ce869928_973c_11eb_af32_9801a78f88c3row11_col0\" class=\"data row11 col0\" >84.1</td>\n",
       "                        <td id=\"T_ce869928_973c_11eb_af32_9801a78f88c3row11_col1\" class=\"data row11 col1\" >83.4</td>\n",
       "                        <td id=\"T_ce869928_973c_11eb_af32_9801a78f88c3row11_col2\" class=\"data row11 col2\" >84.4</td>\n",
       "                        <td id=\"T_ce869928_973c_11eb_af32_9801a78f88c3row11_col3\" class=\"data row11 col3\" >82.8</td>\n",
       "            </tr>\n",
       "            <tr>\n",
       "                        <th id=\"T_ce869928_973c_11eb_af32_9801a78f88c3level0_row12\" class=\"row_heading level0 row12\" >Thomas High School</th>\n",
       "                        <td id=\"T_ce869928_973c_11eb_af32_9801a78f88c3row12_col0\" class=\"data row12 col0\" >83.7</td>\n",
       "                        <td id=\"T_ce869928_973c_11eb_af32_9801a78f88c3row12_col1\" class=\"data row12 col1\" >84.3</td>\n",
       "                        <td id=\"T_ce869928_973c_11eb_af32_9801a78f88c3row12_col2\" class=\"data row12 col2\" >83.6</td>\n",
       "                        <td id=\"T_ce869928_973c_11eb_af32_9801a78f88c3row12_col3\" class=\"data row12 col3\" >83.8</td>\n",
       "            </tr>\n",
       "            <tr>\n",
       "                        <th id=\"T_ce869928_973c_11eb_af32_9801a78f88c3level0_row13\" class=\"row_heading level0 row13\" >Wilson High School</th>\n",
       "                        <td id=\"T_ce869928_973c_11eb_af32_9801a78f88c3row13_col0\" class=\"data row13 col0\" >83.9</td>\n",
       "                        <td id=\"T_ce869928_973c_11eb_af32_9801a78f88c3row13_col1\" class=\"data row13 col1\" >84.0</td>\n",
       "                        <td id=\"T_ce869928_973c_11eb_af32_9801a78f88c3row13_col2\" class=\"data row13 col2\" >83.8</td>\n",
       "                        <td id=\"T_ce869928_973c_11eb_af32_9801a78f88c3row13_col3\" class=\"data row13 col3\" >84.3</td>\n",
       "            </tr>\n",
       "            <tr>\n",
       "                        <th id=\"T_ce869928_973c_11eb_af32_9801a78f88c3level0_row14\" class=\"row_heading level0 row14\" >Wright High School</th>\n",
       "                        <td id=\"T_ce869928_973c_11eb_af32_9801a78f88c3row14_col0\" class=\"data row14 col0\" >83.8</td>\n",
       "                        <td id=\"T_ce869928_973c_11eb_af32_9801a78f88c3row14_col1\" class=\"data row14 col1\" >83.8</td>\n",
       "                        <td id=\"T_ce869928_973c_11eb_af32_9801a78f88c3row14_col2\" class=\"data row14 col2\" >84.2</td>\n",
       "                        <td id=\"T_ce869928_973c_11eb_af32_9801a78f88c3row14_col3\" class=\"data row14 col3\" >84.1</td>\n",
       "            </tr>\n",
       "    </tbody></table>"
      ],
      "text/plain": [
       "<pandas.io.formats.style.Styler at 0x7f8eedd16940>"
      ]
     },
     "execution_count": 17,
     "metadata": {},
     "output_type": "execute_result"
    }
   ],
   "source": [
    "#creates grade level average reading scores for each school\n",
    "ninth_reading = student_data.loc[student_data['grade'] == '9th'].groupby('school_name')[\"reading_score\"].mean()\n",
    "tenth_reading = student_data.loc[student_data['grade'] == '10th'].groupby('school_name')[\"reading_score\"].mean()\n",
    "eleventh_reading = student_data.loc[student_data['grade'] == '11th'].groupby('school_name')[\"reading_score\"].mean()\n",
    "twelfth_reading = student_data.loc[student_data['grade'] == '12th'].groupby('school_name')[\"reading_score\"].mean()\n",
    "\n",
    "#merges the reading score averages by school and grade together\n",
    "reading_scores = pd.DataFrame({\n",
    "        \"9th\": ninth_reading,\n",
    "        \"10th\": tenth_reading,\n",
    "        \"11th\": eleventh_reading,\n",
    "        \"12th\": twelfth_reading\n",
    "})\n",
    "reading_scores = reading_scores[['9th', '10th', '11th', '12th']]\n",
    "reading_scores.index.name = \"School Name\"\n",
    "\n",
    "#format\n",
    "reading_scores.style.format({'9th': '{:.1f}', \n",
    "                             \"10th\": '{:.1f}', \n",
    "                             \"11th\": \"{:.1f}\", \n",
    "                             \"12th\": \"{:.1f}\"})"
   ]
  },
  {
   "cell_type": "markdown",
   "metadata": {},
   "source": [
    "## Scores by School Spending"
   ]
  },
  {
   "cell_type": "markdown",
   "metadata": {},
   "source": [
    "* Create a table that breaks down school performances based on average Spending Ranges (Per Student). Use 4 reasonable bins to group school spending. Include in the table each of the following:\n",
    "  * Average Math Score\n",
    "  * Average Reading Score\n",
    "  * % Passing Math\n",
    "  * % Passing Reading\n",
    "  * Overall Passing Rate (Average of the above two)"
   ]
  },
  {
   "cell_type": "code",
   "execution_count": 29,
   "metadata": {},
   "outputs": [
    {
     "data": {
      "text/html": [
       "<style  type=\"text/css\" >\n",
       "</style><table id=\"T_0ff3d7f2_973f_11eb_af32_9801a78f88c3\" ><thead>    <tr>        <th class=\"blank level0\" ></th>        <th class=\"col_heading level0 col0\" >Average Math Score</th>        <th class=\"col_heading level0 col1\" >Average Reading Score</th>        <th class=\"col_heading level0 col2\" >% Passing Math</th>        <th class=\"col_heading level0 col3\" >% Passing Reading</th>        <th class=\"col_heading level0 col4\" >% Overall Passing</th>    </tr>    <tr>        <th class=\"index_name level0\" >Per Student Budget</th>        <th class=\"blank\" ></th>        <th class=\"blank\" ></th>        <th class=\"blank\" ></th>        <th class=\"blank\" ></th>        <th class=\"blank\" ></th>    </tr></thead><tbody>\n",
       "                <tr>\n",
       "                        <th id=\"T_0ff3d7f2_973f_11eb_af32_9801a78f88c3level0_row0\" class=\"row_heading level0 row0\" ><$584</th>\n",
       "                        <td id=\"T_0ff3d7f2_973f_11eb_af32_9801a78f88c3row0_col0\" class=\"data row0 col0\" >83.363065</td>\n",
       "                        <td id=\"T_0ff3d7f2_973f_11eb_af32_9801a78f88c3row0_col1\" class=\"data row0 col1\" >83.964039</td>\n",
       "                        <td id=\"T_0ff3d7f2_973f_11eb_af32_9801a78f88c3row0_col2\" class=\"data row0 col2\" >93.702889</td>\n",
       "                        <td id=\"T_0ff3d7f2_973f_11eb_af32_9801a78f88c3row0_col3\" class=\"data row0 col3\" >96.686558</td>\n",
       "                        <td id=\"T_0ff3d7f2_973f_11eb_af32_9801a78f88c3row0_col4\" class=\"data row0 col4\" >90.640704</td>\n",
       "            </tr>\n",
       "            <tr>\n",
       "                        <th id=\"T_0ff3d7f2_973f_11eb_af32_9801a78f88c3level0_row1\" class=\"row_heading level0 row1\" >$585-629</th>\n",
       "                        <td id=\"T_0ff3d7f2_973f_11eb_af32_9801a78f88c3row1_col0\" class=\"data row1 col0\" >79.982873</td>\n",
       "                        <td id=\"T_0ff3d7f2_973f_11eb_af32_9801a78f88c3row1_col1\" class=\"data row1 col1\" >82.312643</td>\n",
       "                        <td id=\"T_0ff3d7f2_973f_11eb_af32_9801a78f88c3row1_col2\" class=\"data row1 col2\" >79.109851</td>\n",
       "                        <td id=\"T_0ff3d7f2_973f_11eb_af32_9801a78f88c3row1_col3\" class=\"data row1 col3\" >88.513145</td>\n",
       "                        <td id=\"T_0ff3d7f2_973f_11eb_af32_9801a78f88c3row1_col4\" class=\"data row1 col4\" >70.939239</td>\n",
       "            </tr>\n",
       "            <tr>\n",
       "                        <th id=\"T_0ff3d7f2_973f_11eb_af32_9801a78f88c3level0_row2\" class=\"row_heading level0 row2\" >$630-644</th>\n",
       "                        <td id=\"T_0ff3d7f2_973f_11eb_af32_9801a78f88c3row2_col0\" class=\"data row2 col0\" >77.821056</td>\n",
       "                        <td id=\"T_0ff3d7f2_973f_11eb_af32_9801a78f88c3row2_col1\" class=\"data row2 col1\" >81.301007</td>\n",
       "                        <td id=\"T_0ff3d7f2_973f_11eb_af32_9801a78f88c3row2_col2\" class=\"data row2 col2\" >70.623565</td>\n",
       "                        <td id=\"T_0ff3d7f2_973f_11eb_af32_9801a78f88c3row2_col3\" class=\"data row2 col3\" >82.600247</td>\n",
       "                        <td id=\"T_0ff3d7f2_973f_11eb_af32_9801a78f88c3row2_col4\" class=\"data row2 col4\" >58.841194</td>\n",
       "            </tr>\n",
       "            <tr>\n",
       "                        <th id=\"T_0ff3d7f2_973f_11eb_af32_9801a78f88c3level0_row3\" class=\"row_heading level0 row3\" >$645-675</th>\n",
       "                        <td id=\"T_0ff3d7f2_973f_11eb_af32_9801a78f88c3row3_col0\" class=\"data row3 col0\" >77.049297</td>\n",
       "                        <td id=\"T_0ff3d7f2_973f_11eb_af32_9801a78f88c3row3_col1\" class=\"data row3 col1\" >81.005604</td>\n",
       "                        <td id=\"T_0ff3d7f2_973f_11eb_af32_9801a78f88c3row3_col2\" class=\"data row3 col2\" >66.230813</td>\n",
       "                        <td id=\"T_0ff3d7f2_973f_11eb_af32_9801a78f88c3row3_col3\" class=\"data row3 col3\" >81.109397</td>\n",
       "                        <td id=\"T_0ff3d7f2_973f_11eb_af32_9801a78f88c3row3_col4\" class=\"data row3 col4\" >53.528791</td>\n",
       "            </tr>\n",
       "    </tbody></table>"
      ],
      "text/plain": [
       "<pandas.io.formats.style.Styler at 0x7f8eedfe3640>"
      ]
     },
     "execution_count": 29,
     "metadata": {},
     "output_type": "execute_result"
    }
   ],
   "source": [
    "# create spending bins\n",
    "\n",
    "\n",
    "bins = [0, 584, 629, 644, 675]\n",
    "group_name = [\"<$584\", \"$585-629\", \"$630-644\", \"$645-675\"]\n",
    "\n",
    "school_data_complete['spending_bins'] = pd.cut(school_data_complete['budget']/school_data_complete['size'], bins, labels = group_name)\n",
    "\n",
    "#group by spending\n",
    "by_spending = school_data_complete.groupby('spending_bins')\n",
    "\n",
    "\n",
    "avg_math = by_spending['math_score'].mean()\n",
    "\n",
    "avg_read = by_spending['reading_score'].mean()\n",
    "pass_math = school_data_complete[school_data_complete['math_score'] >= 70].groupby('spending_bins')['Student ID'].count()/by_spending['Student ID'].count()*100\n",
    "pass_read = school_data_complete[school_data_complete['reading_score'] >= 70].groupby('spending_bins')['Student ID'].count()/by_spending['Student ID'].count()*100\n",
    "overall = school_data_complete[(school_data_complete['reading_score'] >= 70) & (school_data_complete['math_score'] >= 70)].groupby('spending_bins')['Student ID'].count()/by_spending['Student ID'].count()*100\n",
    "    \n",
    "# df build            \n",
    "scores_by_spend = pd.DataFrame({\n",
    "    \"Average Math Score\": avg_math,\n",
    "    \"Average Reading Score\": avg_read,\n",
    "    \"% Passing Math\": pass_math,\n",
    "    \"% Passing Reading\": pass_read,\n",
    "    \"% Overall Passing\": overall\n",
    "            \n",
    "})\n",
    "            \n",
    "#reorder columns\n",
    "scores_by_spend = scores_by_spend[[\n",
    "    \"Average Math Score\",\n",
    "    \"Average Reading Score\",\n",
    "    \"% Passing Math\",\n",
    "    \"% Passing Reading\",\n",
    "    \"% Overall Passing\"\n",
    "]]\n",
    "\n",
    "scores_by_spend.index.name = \"Per Student Budget\"\n",
    "\n",
    "\n",
    "#formating\n",
    "scores_by_spend.style.format({'Average Math Score': '{:.6f}', \n",
    "                              'Average Reading Score': '{:.6f}', \n",
    "                              '% Passing Math': '{:.6f}', \n",
    "                              '% Passing Reading':'{:.6f}', \n",
    "                              '% Overall Passing': '{:.6f}'})"
   ]
  },
  {
   "cell_type": "markdown",
   "metadata": {},
   "source": [
    "## Scores by School Size"
   ]
  },
  {
   "cell_type": "markdown",
   "metadata": {},
   "source": [
    "* Perform the same operations as above, based on school size."
   ]
  },
  {
   "cell_type": "code",
   "execution_count": 25,
   "metadata": {
    "scrolled": true
   },
   "outputs": [
    {
     "data": {
      "text/html": [
       "<style  type=\"text/css\" >\n",
       "</style><table id=\"T_805c4ed6_973d_11eb_af32_9801a78f88c3\" ><thead>    <tr>        <th class=\"blank level0\" ></th>        <th class=\"col_heading level0 col0\" >Average Math Score</th>        <th class=\"col_heading level0 col1\" >Average Reading Score</th>        <th class=\"col_heading level0 col2\" >% Passing Math</th>        <th class=\"col_heading level0 col3\" >% Passing Reading</th>        <th class=\"col_heading level0 col4\" >% Overall Passing</th>    </tr>    <tr>        <th class=\"index_name level0\" >Total Students</th>        <th class=\"blank\" ></th>        <th class=\"blank\" ></th>        <th class=\"blank\" ></th>        <th class=\"blank\" ></th>        <th class=\"blank\" ></th>    </tr></thead><tbody>\n",
       "                <tr>\n",
       "                        <th id=\"T_805c4ed6_973d_11eb_af32_9801a78f88c3level0_row0\" class=\"row_heading level0 row0\" >Small (<1000)</th>\n",
       "                        <td id=\"T_805c4ed6_973d_11eb_af32_9801a78f88c3row0_col0\" class=\"data row0 col0\" >83.828654</td>\n",
       "                        <td id=\"T_805c4ed6_973d_11eb_af32_9801a78f88c3row0_col1\" class=\"data row0 col1\" >83.828654</td>\n",
       "                        <td id=\"T_805c4ed6_973d_11eb_af32_9801a78f88c3row0_col2\" class=\"data row0 col2\" >93.952484</td>\n",
       "                        <td id=\"T_805c4ed6_973d_11eb_af32_9801a78f88c3row0_col3\" class=\"data row0 col3\" >96.040317</td>\n",
       "                        <td id=\"T_805c4ed6_973d_11eb_af32_9801a78f88c3row0_col4\" class=\"data row0 col4\" >90.136789</td>\n",
       "            </tr>\n",
       "            <tr>\n",
       "                        <th id=\"T_805c4ed6_973d_11eb_af32_9801a78f88c3level0_row1\" class=\"row_heading level0 row1\" >Medium (1000-2000)</th>\n",
       "                        <td id=\"T_805c4ed6_973d_11eb_af32_9801a78f88c3row1_col0\" class=\"data row1 col0\" >83.372682</td>\n",
       "                        <td id=\"T_805c4ed6_973d_11eb_af32_9801a78f88c3row1_col1\" class=\"data row1 col1\" >83.372682</td>\n",
       "                        <td id=\"T_805c4ed6_973d_11eb_af32_9801a78f88c3row1_col2\" class=\"data row1 col2\" >93.616522</td>\n",
       "                        <td id=\"T_805c4ed6_973d_11eb_af32_9801a78f88c3row1_col3\" class=\"data row1 col3\" >96.773058</td>\n",
       "                        <td id=\"T_805c4ed6_973d_11eb_af32_9801a78f88c3row1_col4\" class=\"data row1 col4\" >90.624267</td>\n",
       "            </tr>\n",
       "            <tr>\n",
       "                        <th id=\"T_805c4ed6_973d_11eb_af32_9801a78f88c3level0_row2\" class=\"row_heading level0 row2\" >Large (2000-5000)</th>\n",
       "                        <td id=\"T_805c4ed6_973d_11eb_af32_9801a78f88c3row2_col0\" class=\"data row2 col0\" >77.477597</td>\n",
       "                        <td id=\"T_805c4ed6_973d_11eb_af32_9801a78f88c3row2_col1\" class=\"data row2 col1\" >77.477597</td>\n",
       "                        <td id=\"T_805c4ed6_973d_11eb_af32_9801a78f88c3row2_col2\" class=\"data row2 col2\" >68.652380</td>\n",
       "                        <td id=\"T_805c4ed6_973d_11eb_af32_9801a78f88c3row2_col3\" class=\"data row2 col3\" >82.125158</td>\n",
       "                        <td id=\"T_805c4ed6_973d_11eb_af32_9801a78f88c3row2_col4\" class=\"data row2 col4\" >56.574046</td>\n",
       "            </tr>\n",
       "    </tbody></table>"
      ],
      "text/plain": [
       "<pandas.io.formats.style.Styler at 0x7f8eecede0a0>"
      ]
     },
     "execution_count": 25,
     "metadata": {},
     "output_type": "execute_result"
    }
   ],
   "source": [
    "bins = [0, 1000, 1999,5000]\n",
    "group_name = [\"Small (<1000)\", \"Medium (1000-2000)\" , \"Large (2000-5000)\"]\n",
    "school_data_complete['size_bins'] = pd.cut(school_data_complete['size'], bins, labels = group_name)\n",
    "\n",
    "#group by spending\n",
    "by_size = school_data_complete.groupby('size_bins')\n",
    "\n",
    "#calculations \n",
    "average_math_score = by_size['math_score'].mean()\n",
    "average_reading_score = by_size['math_score'].mean()\n",
    "pass_math_percent = school_data_complete[school_data_complete['math_score'] >= 70].groupby('size_bins')['Student ID'].count()/by_size['Student ID'].count()*100\n",
    "pass_read_percent = school_data_complete[school_data_complete['reading_score'] >= 70].groupby('size_bins')['Student ID'].count()/by_size['Student ID'].count()*100\n",
    "overall = school_data_complete[(school_data_complete['reading_score'] >= 70) & (school_data_complete['math_score'] >= 70)].groupby('size_bins')['Student ID'].count()/by_size['Student ID'].count()*100\n",
    "\n",
    "            \n",
    "# df build            \n",
    "scores_by_size = pd.DataFrame({\n",
    "    \"Average Math Score\": average_math_score,\n",
    "    \"Average Reading Score\": average_reading_score,\n",
    "    '% Passing Math': pass_math_percent,\n",
    "    '% Passing Reading': pass_read_percent,\n",
    "    '% Overall Passing': overall\n",
    "            \n",
    "})\n",
    "            \n",
    "#reorder columns\n",
    "scores_by_size = scores_by_size[[\n",
    "    \"Average Math Score\",\n",
    "    \"Average Reading Score\",\n",
    "    '% Passing Math',\n",
    "    '% Passing Reading',\n",
    "    '% Overall Passing'\n",
    "]]\n",
    "\n",
    "scores_by_size.index.name = \"Total Students\"\n",
    "scores_by_size = scores_by_size.reindex(group_name)\n",
    "\n",
    "#formating\n",
    "scores_by_size.style.format({'Average Math Score': '{:.6f}', \n",
    "                              'Average Reading Score': '{:.6f}', \n",
    "                              '% Passing Math': '{:.6f}', \n",
    "                              '% Passing Reading':'{:.6f}', \n",
    "                              '% Overall Passing': '{:.6f}'})"
   ]
  },
  {
   "cell_type": "markdown",
   "metadata": {},
   "source": [
    "## Scores by School Type"
   ]
  },
  {
   "cell_type": "markdown",
   "metadata": {},
   "source": [
    "* Perform the same operations as above, based on school type"
   ]
  },
  {
   "cell_type": "code",
   "execution_count": 26,
   "metadata": {},
   "outputs": [
    {
     "data": {
      "text/html": [
       "<style  type=\"text/css\" >\n",
       "</style><table id=\"T_829cae98_973d_11eb_af32_9801a78f88c3\" ><thead>    <tr>        <th class=\"blank level0\" ></th>        <th class=\"col_heading level0 col0\" >Average Math Score</th>        <th class=\"col_heading level0 col1\" >Average Reading Score</th>        <th class=\"col_heading level0 col2\" >% Passing Math</th>        <th class=\"col_heading level0 col3\" >% Passing Reading</th>        <th class=\"col_heading level0 col4\" >% Overall Passing</th>    </tr>    <tr>        <th class=\"index_name level0\" >Type of School</th>        <th class=\"blank\" ></th>        <th class=\"blank\" ></th>        <th class=\"blank\" ></th>        <th class=\"blank\" ></th>        <th class=\"blank\" ></th>    </tr></thead><tbody>\n",
       "                <tr>\n",
       "                        <th id=\"T_829cae98_973d_11eb_af32_9801a78f88c3level0_row0\" class=\"row_heading level0 row0\" >Charter</th>\n",
       "                        <td id=\"T_829cae98_973d_11eb_af32_9801a78f88c3row0_col0\" class=\"data row0 col0\" >83.406183</td>\n",
       "                        <td id=\"T_829cae98_973d_11eb_af32_9801a78f88c3row0_col1\" class=\"data row0 col1\" >83.406183</td>\n",
       "                        <td id=\"T_829cae98_973d_11eb_af32_9801a78f88c3row0_col2\" class=\"data row0 col2\" >93.701821</td>\n",
       "                        <td id=\"T_829cae98_973d_11eb_af32_9801a78f88c3row0_col3\" class=\"data row0 col3\" >96.645891</td>\n",
       "                        <td id=\"T_829cae98_973d_11eb_af32_9801a78f88c3row0_col4\" class=\"data row0 col4\" >90.560932</td>\n",
       "            </tr>\n",
       "            <tr>\n",
       "                        <th id=\"T_829cae98_973d_11eb_af32_9801a78f88c3level0_row1\" class=\"row_heading level0 row1\" >District</th>\n",
       "                        <td id=\"T_829cae98_973d_11eb_af32_9801a78f88c3row1_col0\" class=\"data row1 col0\" >76.987026</td>\n",
       "                        <td id=\"T_829cae98_973d_11eb_af32_9801a78f88c3row1_col1\" class=\"data row1 col1\" >76.987026</td>\n",
       "                        <td id=\"T_829cae98_973d_11eb_af32_9801a78f88c3row1_col2\" class=\"data row1 col2\" >66.518387</td>\n",
       "                        <td id=\"T_829cae98_973d_11eb_af32_9801a78f88c3row1_col3\" class=\"data row1 col3\" >80.905249</td>\n",
       "                        <td id=\"T_829cae98_973d_11eb_af32_9801a78f88c3row1_col4\" class=\"data row1 col4\" >53.695878</td>\n",
       "            </tr>\n",
       "    </tbody></table>"
      ],
      "text/plain": [
       "<pandas.io.formats.style.Styler at 0x7f8eedfe2640>"
      ]
     },
     "execution_count": 26,
     "metadata": {},
     "output_type": "execute_result"
    }
   ],
   "source": [
    "# group by type of school\n",
    "school_type = school_data_complete.groupby(\"type\")\n",
    "\n",
    "#calculations \n",
    "average_math_score = school_type['math_score'].mean()\n",
    "average_reading_score = school_type['math_score'].mean()\n",
    "pass_math_percent = school_data_complete[school_data_complete['math_score'] >= 70].groupby('type')['Student ID'].count()/school_type['Student ID'].count()*100\n",
    "pass_read_percent = school_data_complete[school_data_complete['reading_score'] >= 70].groupby('type')['Student ID'].count()/school_type['Student ID'].count()*100\n",
    "overall = school_data_complete[(school_data_complete['reading_score'] >= 70) & (school_data_complete['math_score'] >= 70)].groupby('type')['Student ID'].count()/school_type['Student ID'].count()*100\n",
    "\n",
    "# df build            \n",
    "scores_school_type = pd.DataFrame({\n",
    "    \"Average Math Score\": average_math_score,\n",
    "    \"Average Reading Score\": average_reading_score,\n",
    "    '% Passing Math': pass_math_percent,\n",
    "    '% Passing Reading': pass_read_percent,\n",
    "    \"% Overall Passing\": overall})\n",
    "    \n",
    "#reorder columns\n",
    "scores_school_type = scores_school_type[[\n",
    "    \"Average Math Score\",\n",
    "    \"Average Reading Score\",\n",
    "    '% Passing Math',\n",
    "    '% Passing Reading',\n",
    "    \"% Overall Passing\"\n",
    "]]\n",
    "scores_school_type.index.name = \"Type of School\"\n",
    "\n",
    "\n",
    "#formating\n",
    "scores_school_type.style.format({'Average Math Score': '{:.6f}', \n",
    "                              'Average Reading Score': '{:.6f}', \n",
    "                              '% Passing Math': '{:.6f}', \n",
    "                              '% Passing Reading':'{:.6f}', \n",
    "                              '% Overall Passing': '{:.6f}'})"
   ]
  },
  {
   "cell_type": "code",
   "execution_count": null,
   "metadata": {},
   "outputs": [],
   "source": [
    "#Take away points: Charter schools out perform District schools in every analyzed category. \n",
    "#It appears that the size of the student body and the budget per student play a significant roll.\n",
    "#a metric that is not provided is the drop out rate per year of education. This would be a vital piece of information.\n",
    "#We also do not take into account school transfers. In my experience a large percentage of charter school students transfered from \"district\" schools. This would throw off the data \n",
    "\n",
    "\n"
   ]
  },
  {
   "cell_type": "code",
   "execution_count": null,
   "metadata": {},
   "outputs": [],
   "source": []
  }
 ],
 "metadata": {
  "anaconda-cloud": {},
  "kernel_info": {
   "name": "python3"
  },
  "kernelspec": {
   "display_name": "Python 3",
   "language": "python",
   "name": "python3"
  },
  "language_info": {
   "codemirror_mode": {
    "name": "ipython",
    "version": 3
   },
   "file_extension": ".py",
   "mimetype": "text/x-python",
   "name": "python",
   "nbconvert_exporter": "python",
   "pygments_lexer": "ipython3",
   "version": "3.8.5"
  },
  "latex_envs": {
   "LaTeX_envs_menu_present": true,
   "autoclose": false,
   "autocomplete": true,
   "bibliofile": "biblio.bib",
   "cite_by": "apalike",
   "current_citInitial": 1,
   "eqLabelWithNumbers": true,
   "eqNumInitial": 1,
   "hotkeys": {
    "equation": "Ctrl-E",
    "itemize": "Ctrl-I"
   },
   "labels_anchors": false,
   "latex_user_defs": false,
   "report_style_numbering": false,
   "user_envs_cfg": false
  },
  "nteract": {
   "version": "0.8.4"
  }
 },
 "nbformat": 4,
 "nbformat_minor": 1
}
